{
  "nbformat": 4,
  "nbformat_minor": 0,
  "metadata": {
    "colab": {
      "name": "LinearRegression.ipynb",
      "provenance": [],
      "collapsed_sections": [],
      "include_colab_link": true
    },
    "kernelspec": {
      "name": "python3",
      "display_name": "Python 3"
    }
  },
  "cells": [
    {
      "cell_type": "markdown",
      "metadata": {
        "id": "view-in-github",
        "colab_type": "text"
      },
      "source": [
        "<a href=\"https://colab.research.google.com/github/VictorMercier/Track-Data-Science/blob/main/LinearRegression.ipynb\" target=\"_parent\"><img src=\"https://colab.research.google.com/assets/colab-badge.svg\" alt=\"Open In Colab\"/></a>"
      ]
    },
    {
      "cell_type": "markdown",
      "metadata": {
        "id": "ObVEyo70Ii-U"
      },
      "source": [
        "#Linear Regression Introduction"
      ]
    },
    {
      "cell_type": "markdown",
      "metadata": {
        "id": "GFRc74x1cQek"
      },
      "source": [
        "Linear regression looks at the relationship between the data you have and the data you want to predict.\n",
        "\n",
        "Linear Regression is a basic and commonly used type of predictive analysis. It’s the most widely used of all statistical techniques. It quantifies the relationship between one or more predictor variables and one outcome variable.\n",
        "\n",
        "Linear regression models are used to show (or predict) the relationship between two variables or factors. Regression analysis is commonly used to show the correlation between two variables.\n"
      ]
    },
    {
      "cell_type": "code",
      "metadata": {
        "id": "N7KIuwFsUUGv"
      },
      "source": [
        "import numpy as np\n",
        "import matplotlib.pyplot as plt\n",
        "import pandas as pd\n",
        "from sklearn.linear_model import LinearRegression"
      ],
      "execution_count": 144,
      "outputs": []
    },
    {
      "cell_type": "code",
      "metadata": {
        "id": "7aVIgauJUUbr",
        "colab": {
          "base_uri": "https://localhost:8080/",
          "height": 419
        },
        "outputId": "b5caeafa-c8c4-4658-9472-c296962c0033"
      },
      "source": [
        "# J'ai importé un excel que j'ai vu dans une vidéo youtube où un mec explique comment on fait une regréssion linéaire. \n",
        "# Le excel est dans l'onglet fichier si vous voulez le voir. \n",
        "data = pd.read_excel(r\"OilShell.xlsx\")   \n",
        "data "
      ],
      "execution_count": 145,
      "outputs": [
        {
          "output_type": "execute_result",
          "data": {
            "text/html": [
              "<div>\n",
              "<style scoped>\n",
              "    .dataframe tbody tr th:only-of-type {\n",
              "        vertical-align: middle;\n",
              "    }\n",
              "\n",
              "    .dataframe tbody tr th {\n",
              "        vertical-align: top;\n",
              "    }\n",
              "\n",
              "    .dataframe thead th {\n",
              "        text-align: right;\n",
              "    }\n",
              "</style>\n",
              "<table border=\"1\" class=\"dataframe\">\n",
              "  <thead>\n",
              "    <tr style=\"text-align: right;\">\n",
              "      <th></th>\n",
              "      <th>Date</th>\n",
              "      <th>Oil Closing Price</th>\n",
              "      <th>Close</th>\n",
              "    </tr>\n",
              "  </thead>\n",
              "  <tbody>\n",
              "    <tr>\n",
              "      <th>0</th>\n",
              "      <td>2010-11-15</td>\n",
              "      <td>81.510002</td>\n",
              "      <td>64.599998</td>\n",
              "    </tr>\n",
              "    <tr>\n",
              "      <th>1</th>\n",
              "      <td>2010-11-22</td>\n",
              "      <td>83.760002</td>\n",
              "      <td>61.610001</td>\n",
              "    </tr>\n",
              "    <tr>\n",
              "      <th>2</th>\n",
              "      <td>2010-11-29</td>\n",
              "      <td>89.190002</td>\n",
              "      <td>63.549999</td>\n",
              "    </tr>\n",
              "    <tr>\n",
              "      <th>3</th>\n",
              "      <td>2010-12-06</td>\n",
              "      <td>87.790001</td>\n",
              "      <td>64.720001</td>\n",
              "    </tr>\n",
              "    <tr>\n",
              "      <th>4</th>\n",
              "      <td>2010-12-13</td>\n",
              "      <td>88.019997</td>\n",
              "      <td>64.419998</td>\n",
              "    </tr>\n",
              "    <tr>\n",
              "      <th>...</th>\n",
              "      <td>...</td>\n",
              "      <td>...</td>\n",
              "      <td>...</td>\n",
              "    </tr>\n",
              "    <tr>\n",
              "      <th>518</th>\n",
              "      <td>2020-10-19</td>\n",
              "      <td>39.849998</td>\n",
              "      <td>24.360001</td>\n",
              "    </tr>\n",
              "    <tr>\n",
              "      <th>519</th>\n",
              "      <td>2020-10-26</td>\n",
              "      <td>35.790001</td>\n",
              "      <td>24.150000</td>\n",
              "    </tr>\n",
              "    <tr>\n",
              "      <th>520</th>\n",
              "      <td>2020-11-02</td>\n",
              "      <td>37.139999</td>\n",
              "      <td>25.320000</td>\n",
              "    </tr>\n",
              "    <tr>\n",
              "      <th>521</th>\n",
              "      <td>2020-11-09</td>\n",
              "      <td>40.130001</td>\n",
              "      <td>29.389999</td>\n",
              "    </tr>\n",
              "    <tr>\n",
              "      <th>522</th>\n",
              "      <td>2020-11-16</td>\n",
              "      <td>41.430000</td>\n",
              "      <td>32.080002</td>\n",
              "    </tr>\n",
              "  </tbody>\n",
              "</table>\n",
              "<p>523 rows × 3 columns</p>\n",
              "</div>"
            ],
            "text/plain": [
              "          Date  Oil Closing Price      Close\n",
              "0   2010-11-15          81.510002  64.599998\n",
              "1   2010-11-22          83.760002  61.610001\n",
              "2   2010-11-29          89.190002  63.549999\n",
              "3   2010-12-06          87.790001  64.720001\n",
              "4   2010-12-13          88.019997  64.419998\n",
              "..         ...                ...        ...\n",
              "518 2020-10-19          39.849998  24.360001\n",
              "519 2020-10-26          35.790001  24.150000\n",
              "520 2020-11-02          37.139999  25.320000\n",
              "521 2020-11-09          40.130001  29.389999\n",
              "522 2020-11-16          41.430000  32.080002\n",
              "\n",
              "[523 rows x 3 columns]"
            ]
          },
          "metadata": {
            "tags": []
          },
          "execution_count": 145
        }
      ]
    },
    {
      "cell_type": "code",
      "metadata": {
        "id": "nhQpY6hJqPAm",
        "colab": {
          "base_uri": "https://localhost:8080/",
          "height": 450
        },
        "outputId": "240bfe71-9abc-4704-c264-06d58889301a"
      },
      "source": [
        "# Ici je change la colonne Index tout à gauche par les dates pour une meilleure lisibitité du tableau\n",
        "data.index = pd.to_datetime(data[\"Date\"])\n",
        "\n",
        "# Avec la fonction .drop() je retire la colonne date du tableau vu qu'elle est en index. \n",
        "data = data.drop('Date', axis=1)\n",
        "data"
      ],
      "execution_count": 146,
      "outputs": [
        {
          "output_type": "execute_result",
          "data": {
            "text/html": [
              "<div>\n",
              "<style scoped>\n",
              "    .dataframe tbody tr th:only-of-type {\n",
              "        vertical-align: middle;\n",
              "    }\n",
              "\n",
              "    .dataframe tbody tr th {\n",
              "        vertical-align: top;\n",
              "    }\n",
              "\n",
              "    .dataframe thead th {\n",
              "        text-align: right;\n",
              "    }\n",
              "</style>\n",
              "<table border=\"1\" class=\"dataframe\">\n",
              "  <thead>\n",
              "    <tr style=\"text-align: right;\">\n",
              "      <th></th>\n",
              "      <th>Oil Closing Price</th>\n",
              "      <th>Close</th>\n",
              "    </tr>\n",
              "    <tr>\n",
              "      <th>Date</th>\n",
              "      <th></th>\n",
              "      <th></th>\n",
              "    </tr>\n",
              "  </thead>\n",
              "  <tbody>\n",
              "    <tr>\n",
              "      <th>2010-11-15</th>\n",
              "      <td>81.510002</td>\n",
              "      <td>64.599998</td>\n",
              "    </tr>\n",
              "    <tr>\n",
              "      <th>2010-11-22</th>\n",
              "      <td>83.760002</td>\n",
              "      <td>61.610001</td>\n",
              "    </tr>\n",
              "    <tr>\n",
              "      <th>2010-11-29</th>\n",
              "      <td>89.190002</td>\n",
              "      <td>63.549999</td>\n",
              "    </tr>\n",
              "    <tr>\n",
              "      <th>2010-12-06</th>\n",
              "      <td>87.790001</td>\n",
              "      <td>64.720001</td>\n",
              "    </tr>\n",
              "    <tr>\n",
              "      <th>2010-12-13</th>\n",
              "      <td>88.019997</td>\n",
              "      <td>64.419998</td>\n",
              "    </tr>\n",
              "    <tr>\n",
              "      <th>...</th>\n",
              "      <td>...</td>\n",
              "      <td>...</td>\n",
              "    </tr>\n",
              "    <tr>\n",
              "      <th>2020-10-19</th>\n",
              "      <td>39.849998</td>\n",
              "      <td>24.360001</td>\n",
              "    </tr>\n",
              "    <tr>\n",
              "      <th>2020-10-26</th>\n",
              "      <td>35.790001</td>\n",
              "      <td>24.150000</td>\n",
              "    </tr>\n",
              "    <tr>\n",
              "      <th>2020-11-02</th>\n",
              "      <td>37.139999</td>\n",
              "      <td>25.320000</td>\n",
              "    </tr>\n",
              "    <tr>\n",
              "      <th>2020-11-09</th>\n",
              "      <td>40.130001</td>\n",
              "      <td>29.389999</td>\n",
              "    </tr>\n",
              "    <tr>\n",
              "      <th>2020-11-16</th>\n",
              "      <td>41.430000</td>\n",
              "      <td>32.080002</td>\n",
              "    </tr>\n",
              "  </tbody>\n",
              "</table>\n",
              "<p>523 rows × 2 columns</p>\n",
              "</div>"
            ],
            "text/plain": [
              "            Oil Closing Price      Close\n",
              "Date                                    \n",
              "2010-11-15          81.510002  64.599998\n",
              "2010-11-22          83.760002  61.610001\n",
              "2010-11-29          89.190002  63.549999\n",
              "2010-12-06          87.790001  64.720001\n",
              "2010-12-13          88.019997  64.419998\n",
              "...                       ...        ...\n",
              "2020-10-19          39.849998  24.360001\n",
              "2020-10-26          35.790001  24.150000\n",
              "2020-11-02          37.139999  25.320000\n",
              "2020-11-09          40.130001  29.389999\n",
              "2020-11-16          41.430000  32.080002\n",
              "\n",
              "[523 rows x 2 columns]"
            ]
          },
          "metadata": {
            "tags": []
          },
          "execution_count": 146
        }
      ]
    },
    {
      "cell_type": "code",
      "metadata": {
        "id": "qNHDIlTIuerF",
        "colab": {
          "base_uri": "https://localhost:8080/",
          "height": 450
        },
        "outputId": "60ff93be-7646-48a1-b4cd-c599c0c5be3f"
      },
      "source": [
        "data = data.rename(columns={\"Close\" : \"Royal Dutch Shell Closing Price\"})\n",
        "data "
      ],
      "execution_count": 147,
      "outputs": [
        {
          "output_type": "execute_result",
          "data": {
            "text/html": [
              "<div>\n",
              "<style scoped>\n",
              "    .dataframe tbody tr th:only-of-type {\n",
              "        vertical-align: middle;\n",
              "    }\n",
              "\n",
              "    .dataframe tbody tr th {\n",
              "        vertical-align: top;\n",
              "    }\n",
              "\n",
              "    .dataframe thead th {\n",
              "        text-align: right;\n",
              "    }\n",
              "</style>\n",
              "<table border=\"1\" class=\"dataframe\">\n",
              "  <thead>\n",
              "    <tr style=\"text-align: right;\">\n",
              "      <th></th>\n",
              "      <th>Oil Closing Price</th>\n",
              "      <th>Royal Dutch Shell Closing Price</th>\n",
              "    </tr>\n",
              "    <tr>\n",
              "      <th>Date</th>\n",
              "      <th></th>\n",
              "      <th></th>\n",
              "    </tr>\n",
              "  </thead>\n",
              "  <tbody>\n",
              "    <tr>\n",
              "      <th>2010-11-15</th>\n",
              "      <td>81.510002</td>\n",
              "      <td>64.599998</td>\n",
              "    </tr>\n",
              "    <tr>\n",
              "      <th>2010-11-22</th>\n",
              "      <td>83.760002</td>\n",
              "      <td>61.610001</td>\n",
              "    </tr>\n",
              "    <tr>\n",
              "      <th>2010-11-29</th>\n",
              "      <td>89.190002</td>\n",
              "      <td>63.549999</td>\n",
              "    </tr>\n",
              "    <tr>\n",
              "      <th>2010-12-06</th>\n",
              "      <td>87.790001</td>\n",
              "      <td>64.720001</td>\n",
              "    </tr>\n",
              "    <tr>\n",
              "      <th>2010-12-13</th>\n",
              "      <td>88.019997</td>\n",
              "      <td>64.419998</td>\n",
              "    </tr>\n",
              "    <tr>\n",
              "      <th>...</th>\n",
              "      <td>...</td>\n",
              "      <td>...</td>\n",
              "    </tr>\n",
              "    <tr>\n",
              "      <th>2020-10-19</th>\n",
              "      <td>39.849998</td>\n",
              "      <td>24.360001</td>\n",
              "    </tr>\n",
              "    <tr>\n",
              "      <th>2020-10-26</th>\n",
              "      <td>35.790001</td>\n",
              "      <td>24.150000</td>\n",
              "    </tr>\n",
              "    <tr>\n",
              "      <th>2020-11-02</th>\n",
              "      <td>37.139999</td>\n",
              "      <td>25.320000</td>\n",
              "    </tr>\n",
              "    <tr>\n",
              "      <th>2020-11-09</th>\n",
              "      <td>40.130001</td>\n",
              "      <td>29.389999</td>\n",
              "    </tr>\n",
              "    <tr>\n",
              "      <th>2020-11-16</th>\n",
              "      <td>41.430000</td>\n",
              "      <td>32.080002</td>\n",
              "    </tr>\n",
              "  </tbody>\n",
              "</table>\n",
              "<p>523 rows × 2 columns</p>\n",
              "</div>"
            ],
            "text/plain": [
              "            Oil Closing Price  Royal Dutch Shell Closing Price\n",
              "Date                                                          \n",
              "2010-11-15          81.510002                        64.599998\n",
              "2010-11-22          83.760002                        61.610001\n",
              "2010-11-29          89.190002                        63.549999\n",
              "2010-12-06          87.790001                        64.720001\n",
              "2010-12-13          88.019997                        64.419998\n",
              "...                       ...                              ...\n",
              "2020-10-19          39.849998                        24.360001\n",
              "2020-10-26          35.790001                        24.150000\n",
              "2020-11-02          37.139999                        25.320000\n",
              "2020-11-09          40.130001                        29.389999\n",
              "2020-11-16          41.430000                        32.080002\n",
              "\n",
              "[523 rows x 2 columns]"
            ]
          },
          "metadata": {
            "tags": []
          },
          "execution_count": 147
        }
      ]
    },
    {
      "cell_type": "code",
      "metadata": {
        "id": "-6nVAomSue3N",
        "colab": {
          "base_uri": "https://localhost:8080/",
          "height": 501
        },
        "outputId": "57805f95-5982-4a07-805e-1d428db127a9"
      },
      "source": [
        "# Je vérifie s'il y a des cases vides (i.e avec des NA ou NaN), on peut retirer le display\n",
        "display(data.isna().any())\n",
        "\n",
        "# Etant donné que j'ai True, je vais les enlever avec la fonction .dropna()\n",
        "data = data.dropna()\n",
        "data"
      ],
      "execution_count": 148,
      "outputs": [
        {
          "output_type": "display_data",
          "data": {
            "text/plain": [
              "Oil Closing Price                  False\n",
              "Royal Dutch Shell Closing Price    False\n",
              "dtype: bool"
            ]
          },
          "metadata": {
            "tags": []
          }
        },
        {
          "output_type": "execute_result",
          "data": {
            "text/html": [
              "<div>\n",
              "<style scoped>\n",
              "    .dataframe tbody tr th:only-of-type {\n",
              "        vertical-align: middle;\n",
              "    }\n",
              "\n",
              "    .dataframe tbody tr th {\n",
              "        vertical-align: top;\n",
              "    }\n",
              "\n",
              "    .dataframe thead th {\n",
              "        text-align: right;\n",
              "    }\n",
              "</style>\n",
              "<table border=\"1\" class=\"dataframe\">\n",
              "  <thead>\n",
              "    <tr style=\"text-align: right;\">\n",
              "      <th></th>\n",
              "      <th>Oil Closing Price</th>\n",
              "      <th>Royal Dutch Shell Closing Price</th>\n",
              "    </tr>\n",
              "    <tr>\n",
              "      <th>Date</th>\n",
              "      <th></th>\n",
              "      <th></th>\n",
              "    </tr>\n",
              "  </thead>\n",
              "  <tbody>\n",
              "    <tr>\n",
              "      <th>2010-11-15</th>\n",
              "      <td>81.510002</td>\n",
              "      <td>64.599998</td>\n",
              "    </tr>\n",
              "    <tr>\n",
              "      <th>2010-11-22</th>\n",
              "      <td>83.760002</td>\n",
              "      <td>61.610001</td>\n",
              "    </tr>\n",
              "    <tr>\n",
              "      <th>2010-11-29</th>\n",
              "      <td>89.190002</td>\n",
              "      <td>63.549999</td>\n",
              "    </tr>\n",
              "    <tr>\n",
              "      <th>2010-12-06</th>\n",
              "      <td>87.790001</td>\n",
              "      <td>64.720001</td>\n",
              "    </tr>\n",
              "    <tr>\n",
              "      <th>2010-12-13</th>\n",
              "      <td>88.019997</td>\n",
              "      <td>64.419998</td>\n",
              "    </tr>\n",
              "    <tr>\n",
              "      <th>...</th>\n",
              "      <td>...</td>\n",
              "      <td>...</td>\n",
              "    </tr>\n",
              "    <tr>\n",
              "      <th>2020-10-19</th>\n",
              "      <td>39.849998</td>\n",
              "      <td>24.360001</td>\n",
              "    </tr>\n",
              "    <tr>\n",
              "      <th>2020-10-26</th>\n",
              "      <td>35.790001</td>\n",
              "      <td>24.150000</td>\n",
              "    </tr>\n",
              "    <tr>\n",
              "      <th>2020-11-02</th>\n",
              "      <td>37.139999</td>\n",
              "      <td>25.320000</td>\n",
              "    </tr>\n",
              "    <tr>\n",
              "      <th>2020-11-09</th>\n",
              "      <td>40.130001</td>\n",
              "      <td>29.389999</td>\n",
              "    </tr>\n",
              "    <tr>\n",
              "      <th>2020-11-16</th>\n",
              "      <td>41.430000</td>\n",
              "      <td>32.080002</td>\n",
              "    </tr>\n",
              "  </tbody>\n",
              "</table>\n",
              "<p>523 rows × 2 columns</p>\n",
              "</div>"
            ],
            "text/plain": [
              "            Oil Closing Price  Royal Dutch Shell Closing Price\n",
              "Date                                                          \n",
              "2010-11-15          81.510002                        64.599998\n",
              "2010-11-22          83.760002                        61.610001\n",
              "2010-11-29          89.190002                        63.549999\n",
              "2010-12-06          87.790001                        64.720001\n",
              "2010-12-13          88.019997                        64.419998\n",
              "...                       ...                              ...\n",
              "2020-10-19          39.849998                        24.360001\n",
              "2020-10-26          35.790001                        24.150000\n",
              "2020-11-02          37.139999                        25.320000\n",
              "2020-11-09          40.130001                        29.389999\n",
              "2020-11-16          41.430000                        32.080002\n",
              "\n",
              "[523 rows x 2 columns]"
            ]
          },
          "metadata": {
            "tags": []
          },
          "execution_count": 148
        }
      ]
    },
    {
      "cell_type": "code",
      "metadata": {
        "id": "wGRfJTW2yf6I",
        "colab": {
          "base_uri": "https://localhost:8080/",
          "height": 295
        },
        "outputId": "e9677185-7499-4a82-fc10-067a2c108e34"
      },
      "source": [
        "# Je définis mes axes x et y \n",
        "x = data[\"Royal Dutch Shell Closing Price\"]\n",
        "y = data[\"Oil Closing Price\"]\n",
        "\n",
        "# 1er graph simple sous forme de rond, d'où le \"o\" qui indique le format, \"cercles\". \n",
        "plt.plot(x, y, \"o\", color = \"darkcyan\", label = \"Weekly Price\")\n",
        "plt.title(\"Royal Dutch Shell Vs. Oil\")\n",
        "plt.xlabel(\"Royal Dutch Shell Closing Price\")\n",
        "plt.ylabel(\"Oil\")\n",
        "plt.style.use('dark_background')\n",
        "plt.legend()\n",
        "plt.show()"
      ],
      "execution_count": 159,
      "outputs": [
        {
          "output_type": "display_data",
          "data": {
            "image/png": "[encoded data removed]",
            "text/plain": [
              "<Figure size 432x288 with 1 Axes>"
            ]
          },
          "metadata": {
            "tags": []
          }
        }
      ]
    },
    {
      "cell_type": "code",
      "metadata": {
        "colab": {
          "base_uri": "https://localhost:8080/",
          "height": 145
        },
        "id": "LL74NsTgAo55",
        "outputId": "b466dee3-c33f-4a3b-8d79-8912830228a6"
      },
      "source": [
        "#mesurer la corrélation\n",
        "data.corr()"
      ],
      "execution_count": 130,
      "outputs": [
        {
          "output_type": "execute_result",
          "data": {
            "text/html": [
              "<div>\n",
              "<style scoped>\n",
              "    .dataframe tbody tr th:only-of-type {\n",
              "        vertical-align: middle;\n",
              "    }\n",
              "\n",
              "    .dataframe tbody tr th {\n",
              "        vertical-align: top;\n",
              "    }\n",
              "\n",
              "    .dataframe thead th {\n",
              "        text-align: right;\n",
              "    }\n",
              "</style>\n",
              "<table border=\"1\" class=\"dataframe\">\n",
              "  <thead>\n",
              "    <tr style=\"text-align: right;\">\n",
              "      <th></th>\n",
              "      <th>Oil Closing Price</th>\n",
              "      <th>Royal Dutch Shell Closing Price</th>\n",
              "    </tr>\n",
              "  </thead>\n",
              "  <tbody>\n",
              "    <tr>\n",
              "      <th>Oil Closing Price</th>\n",
              "      <td>1.000000</td>\n",
              "      <td>0.803788</td>\n",
              "    </tr>\n",
              "    <tr>\n",
              "      <th>Royal Dutch Shell Closing Price</th>\n",
              "      <td>0.803788</td>\n",
              "      <td>1.000000</td>\n",
              "    </tr>\n",
              "  </tbody>\n",
              "</table>\n",
              "</div>"
            ],
            "text/plain": [
              "                                 Oil Closing Price  Royal Dutch Shell Closing Price\n",
              "Oil Closing Price                         1.000000                         0.803788\n",
              "Royal Dutch Shell Closing Price           0.803788                         1.000000"
            ]
          },
          "metadata": {
            "tags": []
          },
          "execution_count": 130
        }
      ]
    },
    {
      "cell_type": "markdown",
      "metadata": {
        "id": "JTviiuamA3Nl"
      },
      "source": [
        "Strong relationship as r > 0.8\n",
        "*   Very strong relationship (|r|>0.8 =>)\n",
        "*   Strong relationship (0.6≤|r|)\n",
        "*   Moderate relationship (0.4≤|r|)\n",
        "*   Weak relationship (0.2≤|r|)\n",
        "*  Very weak relationship (|r|)"
      ]
    },
    {
      "cell_type": "code",
      "metadata": {
        "colab": {
          "base_uri": "https://localhost:8080/",
          "height": 297
        },
        "id": "U_3JA4URBKCz",
        "outputId": "0ba2478e-361d-478d-9802-22285fd08480"
      },
      "source": [
        "#juste avoir la description des données\n",
        "\n",
        "data.describe()"
      ],
      "execution_count": 131,
      "outputs": [
        {
          "output_type": "execute_result",
          "data": {
            "text/html": [
              "<div>\n",
              "<style scoped>\n",
              "    .dataframe tbody tr th:only-of-type {\n",
              "        vertical-align: middle;\n",
              "    }\n",
              "\n",
              "    .dataframe tbody tr th {\n",
              "        vertical-align: top;\n",
              "    }\n",
              "\n",
              "    .dataframe thead th {\n",
              "        text-align: right;\n",
              "    }\n",
              "</style>\n",
              "<table border=\"1\" class=\"dataframe\">\n",
              "  <thead>\n",
              "    <tr style=\"text-align: right;\">\n",
              "      <th></th>\n",
              "      <th>Oil Closing Price</th>\n",
              "      <th>Royal Dutch Shell Closing Price</th>\n",
              "    </tr>\n",
              "  </thead>\n",
              "  <tbody>\n",
              "    <tr>\n",
              "      <th>count</th>\n",
              "      <td>523.000000</td>\n",
              "      <td>523.000000</td>\n",
              "    </tr>\n",
              "    <tr>\n",
              "      <th>mean</th>\n",
              "      <td>68.933690</td>\n",
              "      <td>62.398222</td>\n",
              "    </tr>\n",
              "    <tr>\n",
              "      <th>std</th>\n",
              "      <td>23.967035</td>\n",
              "      <td>12.743523</td>\n",
              "    </tr>\n",
              "    <tr>\n",
              "      <th>min</th>\n",
              "      <td>16.559999</td>\n",
              "      <td>23.650000</td>\n",
              "    </tr>\n",
              "    <tr>\n",
              "      <th>25%</th>\n",
              "      <td>48.930000</td>\n",
              "      <td>56.180000</td>\n",
              "    </tr>\n",
              "    <tr>\n",
              "      <th>50%</th>\n",
              "      <td>61.660000</td>\n",
              "      <td>64.919998</td>\n",
              "    </tr>\n",
              "    <tr>\n",
              "      <th>75%</th>\n",
              "      <td>93.384998</td>\n",
              "      <td>70.890000</td>\n",
              "    </tr>\n",
              "    <tr>\n",
              "      <th>max</th>\n",
              "      <td>113.930000</td>\n",
              "      <td>87.599998</td>\n",
              "    </tr>\n",
              "  </tbody>\n",
              "</table>\n",
              "</div>"
            ],
            "text/plain": [
              "       Oil Closing Price  Royal Dutch Shell Closing Price\n",
              "count         523.000000                       523.000000\n",
              "mean           68.933690                        62.398222\n",
              "std            23.967035                        12.743523\n",
              "min            16.559999                        23.650000\n",
              "25%            48.930000                        56.180000\n",
              "50%            61.660000                        64.919998\n",
              "75%            93.384998                        70.890000\n",
              "max           113.930000                        87.599998"
            ]
          },
          "metadata": {
            "tags": []
          },
          "execution_count": 131
        }
      ]
    },
    {
      "cell_type": "markdown",
      "metadata": {
        "id": "eaaIsUxBC8Od"
      },
      "source": [
        "75% des valeurs sont comprises entre mean - std < mean < mean + std, donc faible dispersion des valeurs"
      ]
    },
    {
      "cell_type": "markdown",
      "metadata": {
        "id": "izIxXw8-DbK1"
      },
      "source": [
        "#Cheking for Outliers and Skewness"
      ]
    },
    {
      "cell_type": "code",
      "metadata": {
        "colab": {
          "base_uri": "https://localhost:8080/",
          "height": 281
        },
        "id": "TAwHhdOFDe84",
        "outputId": "b83fa2b5-c0d2-4151-9b52-956fc0dca257"
      },
      "source": [
        "data.hist(grid=True, color = \"purple\")\n",
        "plt.style.use('dark_background')"
      ],
      "execution_count": 158,
      "outputs": [
        {
          "output_type": "display_data",
          "data": {
            "image/png": "[encoded data removed]",
            "text/plain": [
              "<Figure size 432x288 with 2 Axes>"
            ]
          },
          "metadata": {
            "tags": []
          }
        }
      ]
    },
    {
      "cell_type": "markdown",
      "metadata": {
        "id": "WgLO-KyLDxN6"
      },
      "source": [
        "Looks like normal distribution so it seems that is not a lot of outliers. However it looks like Royal Dutch Shell seems a little bit negative skewed"
      ]
    },
    {
      "cell_type": "markdown",
      "metadata": {
        "id": "KCXIAozeEMEk"
      },
      "source": [
        "#Calculate kurtosis and skewness"
      ]
    },
    {
      "cell_type": "code",
      "metadata": {
        "id": "tBSQg66RELMz"
      },
      "source": [
        "from scipy import stats\n",
        "from scipy.stats import kurtosis, skew"
      ],
      "execution_count": 133,
      "outputs": []
    },
    {
      "cell_type": "code",
      "metadata": {
        "colab": {
          "base_uri": "https://localhost:8080/",
          "height": 97
        },
        "id": "Q80Vl52NE5De",
        "outputId": "e7a4a038-d4b7-425e-bb14-b31de8e2ff82"
      },
      "source": [
        "#je calcule l'excès kurtosis en utilisant la méthode fisher. L'alternative c'est Pearson mais anyway. Kurtosis (with fisher) doit être proche de 0, sous Person proche de 3.\n",
        "Oil_kurtosis = kurtosis(data[\"Oil Closing Price\"], fisher= True)\n",
        "royal_kurtosis = kurtosis(data[\"Royal Dutch Shell Closing Price\"], fisher = True)\n",
        "\n",
        "#je calcule le skewness\n",
        "royal_skew = skew(data[\"Royal Dutch Shell Closing Price\"])\n",
        "Oil_skew = skew(data[\"Oil Closing Price\"])\n",
        "\n",
        "display('Royal Dutch Shell Kurtosis: {:2}'.format(royal_kurtosis))\n",
        "display('Oil Kurtosis: {:2}'.format(oil_kurtosis))\n",
        "\n",
        "display('Royal Dutch Shell Skew: {:2}'.format(royal_skew))\n",
        "display('Oil Skew: {:2}'.format(oil_skew))"
      ],
      "execution_count": 134,
      "outputs": [
        {
          "output_type": "display_data",
          "data": {
            "application/vnd.google.colaboratory.intrinsic+json": {
              "type": "string"
            },
            "text/plain": [
              "'Royal Dutch Shell Kurtosis: 1.2251095754809818'"
            ]
          },
          "metadata": {
            "tags": []
          }
        },
        {
          "output_type": "display_data",
          "data": {
            "application/vnd.google.colaboratory.intrinsic+json": {
              "type": "string"
            },
            "text/plain": [
              "'Oil Kurtosis: -1.3277406324528571'"
            ]
          },
          "metadata": {
            "tags": []
          }
        },
        {
          "output_type": "display_data",
          "data": {
            "application/vnd.google.colaboratory.intrinsic+json": {
              "type": "string"
            },
            "text/plain": [
              "'Royal Dutch Shell Skew: -1.0449023389186745'"
            ]
          },
          "metadata": {
            "tags": []
          }
        },
        {
          "output_type": "display_data",
          "data": {
            "application/vnd.google.colaboratory.intrinsic+json": {
              "type": "string"
            },
            "text/plain": [
              "'Oil Skew: 0.14989836772596657'"
            ]
          },
          "metadata": {
            "tags": []
          }
        }
      ]
    },
    {
      "cell_type": "markdown",
      "metadata": {
        "id": "fMRZHXTJrT9A"
      },
      "source": [
        "Explication à faire\n",
        "\n",
        "Skewness represents the concentration of values below or above the average. \n",
        "Kurtosis makes it possible to realize the importance of extreme values.\n",
        "\n",
        "Excess kurtosis compares the kurtosis coefficient with that of a normal distribution. In other words, it measures the tailedness and peakedness compared to a normal distribution. The bigger the tail the larger the excess of kurtosis, or outliers.\n",
        "Here we can see that both Royal Dutch Shell Kurtosis and and Oil Kurtosis have kurtosis smaller than 3. It means that the distributions have lighter tails than the normal distribution. In other words there are not a lot of extreme values.\n",
        "\n",
        "Concerning the skewness of Royal Dutch Shell, it is a bit negatively skewed which means that quite of the values are below the mean.\n",
        "\n",
        "On the whole, there is not extreme value"
      ]
    },
    {
      "cell_type": "markdown",
      "metadata": {
        "id": "UiRBBlJksjii"
      },
      "source": [
        "\n",
        "#Kurtosis\n",
        "\n",
        "\n",
        "* Any distribution with kurtosis ≈3 (excess ≈0) is called mesokurtic. This is a normal distribution \n",
        "\n",
        "* Any distribution with kurtosis <3 (excess kurtosis <0) is called platykurtic. Tails are shorter and thinner, and often its central peak is lower and broader. --> more flat-topped distributions\n",
        "\n",
        "* Any distribution with kurtosis >3 (excess kurtosis >0) is called leptokurtic. Tails are longer and fatter, and often its central peak is higher and sharper. --> less flat-topped distributions"
      ]
    },
    {
      "cell_type": "markdown",
      "metadata": {
        "id": "myssnPous7yR"
      },
      "source": [
        "#Skewness\n",
        "\n",
        "* If skewness is less than −1 or greater than +1, the distribution is highly skewed.\n",
        "* If skewness is between −1 and −½ or between +½ and +1, the distribution is moderately skewed.\n",
        "* If skewness is between −½ and +½, the distribution is approximately symmetric."
      ]
    },
    {
      "cell_type": "markdown",
      "metadata": {
        "id": "KI--49JnRIUg"
      },
      "source": [
        "#Building the slope"
      ]
    },
    {
      "cell_type": "code",
      "metadata": {
        "colab": {
          "base_uri": "https://localhost:8080/",
          "height": 346
        },
        "id": "kBr0foMf3dVV",
        "outputId": "8223a0b6-ba9a-4908-9c75-26e4e4fdd1a7"
      },
      "source": [
        "plt.plot(x, y, 'o', color = \"darkcyan\", label = \"Weekly Price\")\n",
        "a, b = np.polyfit(x, y, 1) #facteur de la slope, b the intercept so that we get the folowwing equation y =ax + b \n",
        "print(a)\n",
        "print(b)\n",
        "plt.title(\"Royal Dutch Shell Vs. Oil\")\n",
        "plt.xlabel(\"Royal Dutch Shell Closing Price\")\n",
        "plt.ylabel(\"Oil\")\n",
        "plt.style.use('dark_background')\n",
        "plt.legend()\n",
        "plt.plot(x, a*x + b, color = \"yellow\")"
      ],
      "execution_count": 160,
      "outputs": [
        {
          "output_type": "stream",
          "text": [
            "1.5117023702368424\n",
            "-25.39384967676686\n"
          ],
          "name": "stdout"
        },
        {
          "output_type": "execute_result",
          "data": {
            "text/plain": [
              "[<matplotlib.lines.Line2D at 0x7fd10a572390>]"
            ]
          },
          "metadata": {
            "tags": []
          },
          "execution_count": 160
        },
        {
          "output_type": "display_data",
          "data": {
            "image/png": "[encoded data removed]",
            "text/plain": [
              "<Figure size 432x288 with 1 Axes>"
            ]
          },
          "metadata": {
            "tags": []
          }
        }
      ]
    },
    {
      "cell_type": "markdown",
      "metadata": {
        "id": "Nqg-IAX4AfG-"
      },
      "source": [
        "About the np.polyfit: \n",
        "It is a pretty general least squares polynomial fit function which accepts the data set and a polynomial function of any degree (specified by the user), and returns a vector of coefficients p that minimises the squared error."
      ]
    },
    {
      "cell_type": "markdown",
      "metadata": {
        "id": "pc8obGYmccWO"
      },
      "source": [
        "The np.polyfit() function is an easy way to perfom a polynomial function as mentioned before. \n",
        "However, what we want to be able to do with our linear regression model is to be able to predict future values. In fact, we want to see here if exxon's stock price is correlated to the oil stock price. \n",
        "In other word, if the oil stock price increases, does the exxon stock price increases too ? "
      ]
    },
    {
      "cell_type": "code",
      "metadata": {
        "id": "huwHsSuD7S23"
      },
      "source": [
        ""
      ],
      "execution_count": null,
      "outputs": []
    },
    {
      "cell_type": "code",
      "metadata": {
        "id": "p8ulmy707x3N",
        "colab": {
          "base_uri": "https://localhost:8080/"
        },
        "outputId": "ca5160ad-d841-4fc0-83b7-2753499ac3e0"
      },
      "source": [
        "# As we  want to see if the stock price of exxon is correlated to the oil stock price \n",
        "# We will then have X (input) equal to oil price and Y (the output) equal to the exxon stock price\n",
        "X = data[[\"oil_price\"]]\n",
        "y = data.drop(\"oil_price\", axis=1)\n",
        "\n",
        "print(X)\n",
        "print(y)"
      ],
      "execution_count": null,
      "outputs": [
        {
          "output_type": "stream",
          "text": [
            "            oil_price\n",
            "date                 \n",
            "2014-03-28     106.64\n",
            "2014-03-31     105.95\n",
            "2014-04-01     105.70\n",
            "2014-04-02     103.37\n",
            "2014-04-03     104.88\n",
            "...               ...\n",
            "2019-03-19      67.13\n",
            "2019-03-20      68.35\n",
            "2019-03-21      68.30\n",
            "2019-03-22      66.29\n",
            "2019-03-25      67.37\n",
            "\n",
            "[1248 rows x 1 columns]\n",
            "            exxon_price\n",
            "date                   \n",
            "2014-03-28    97.699997\n",
            "2014-03-31    97.680000\n",
            "2014-04-01    97.730003\n",
            "2014-04-02    97.949997\n",
            "2014-04-03    97.930000\n",
            "...                 ...\n",
            "2019-03-19    80.870003\n",
            "2019-03-20    81.320000\n",
            "2019-03-21    81.790001\n",
            "2019-03-22    80.480003\n",
            "2019-03-25    79.919998\n",
            "\n",
            "[1248 rows x 1 columns]\n"
          ],
          "name": "stdout"
        }
      ]
    },
    {
      "cell_type": "code",
      "metadata": {
        "id": "iD5eOtI4hn4P"
      },
      "source": [
        "# Split the data to train them and then test them\n",
        "# The train size will represent 80% of our data and the test will\n",
        "from sklearn.model_selection import train_test_split\n",
        "X_train, X_test, y_train, y_test = train_test_split(X, y, test_size=0.3, random_state=1)"
      ],
      "execution_count": null,
      "outputs": []
    },
    {
      "cell_type": "code",
      "metadata": {
        "id": "BG6qvNvyhngP",
        "colab": {
          "base_uri": "https://localhost:8080/"
        },
        "outputId": "6258aec0-5e5c-4de4-9f01-b18d108d4e66"
      },
      "source": [
        "# Now that we have our X and y, we have to create a model and fit it. \n",
        "model = LinearRegression()\n",
        "model.fit(X_train, y_train)\n",
        "\n",
        "# Now that we have our regression model, we can make some predictions: \n",
        "y_predict = model.predict(X_test)\n",
        "\n",
        "# An example of the first 4 predictions:\n",
        "y_predict[:4]"
      ],
      "execution_count": null,
      "outputs": [
        {
          "output_type": "execute_result",
          "data": {
            "text/plain": [
              "array([[82.23530265],\n",
              "       [82.87451035],\n",
              "       [81.48245802],\n",
              "       [78.9256272 ]])"
            ]
          },
          "metadata": {
            "tags": []
          },
          "execution_count": 77
        }
      ]
    },
    {
      "cell_type": "code",
      "metadata": {
        "id": "wOY0rlwJhnwD",
        "colab": {
          "base_uri": "https://localhost:8080/",
          "height": 295
        },
        "outputId": "2e52f968-2503-49f9-a99f-db3966ef8a77"
      },
      "source": [
        "# Let's built our model \n",
        "plt.scatter(X_test, y_test, color = \"orange\", label =\"Price\")\n",
        "plt.plot(X_test, y_predict, color = \"blue\", linewidth = 2, label = \"Regression line\")\n",
        "\n",
        "plt.title(\"Linear Regression Exxon Mobile Vs. Oil\")\n",
        "plt.xlabel(\"Oil\")\n",
        "plt.ylabel(\"Exxon Mobile\")\n",
        "plt.legend()\n",
        "plt.show()\n"
      ],
      "execution_count": null,
      "outputs": [
        {
          "output_type": "display_data",
          "data": {
            "image/png": "[encoded data removed]",
            "text/plain": [
              "<Figure size 432x288 with 1 Axes>"
            ]
          },
          "metadata": {
            "tags": [],
            "needs_background": "light"
          }
        }
      ]
    },
    {
      "cell_type": "markdown",
      "metadata": {
        "id": "D1lU2sahsvgg"
      },
      "source": [
        "Now that we have seen the linear regression with one variable, let's try with multiple variables. \n",
        "\n",
        "# Multiple Regression \n"
      ]
    },
    {
      "cell_type": "code",
      "metadata": {
        "id": "vjYXghQxOcJ2",
        "colab": {
          "base_uri": "https://localhost:8080/",
          "height": 198
        },
        "outputId": "f61409ea-4026-4eb4-aecb-4b04acc4e609"
      },
      "source": [
        ""
      ],
      "execution_count": 91,
      "outputs": [
        {
          "output_type": "error",
          "ename": "NameError",
          "evalue": "ignored",
          "traceback": [
            "\u001b[0;31m---------------------------------------------------------------------------\u001b[0m",
            "\u001b[0;31mNameError\u001b[0m                                 Traceback (most recent call last)",
            "\u001b[0;32m<ipython-input-91-6f6daf953ab9>\u001b[0m in \u001b[0;36m<module>\u001b[0;34m()\u001b[0m\n\u001b[0;32m----> 1\u001b[0;31m \u001b[0mprint\u001b[0m\u001b[0;34m(\u001b[0m\u001b[0mest\u001b[0m\u001b[0;34m.\u001b[0m\u001b[0msummary\u001b[0m\u001b[0;34m(\u001b[0m\u001b[0;34m)\u001b[0m\u001b[0;34m)\u001b[0m\u001b[0;34m\u001b[0m\u001b[0;34m\u001b[0m\u001b[0m\n\u001b[0m",
            "\u001b[0;31mNameError\u001b[0m: name 'est' is not defined"
          ]
        }
      ]
    }
  ]
}