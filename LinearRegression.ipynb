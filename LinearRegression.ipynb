{
  "nbformat": 4,
  "nbformat_minor": 0,
  "metadata": {
    "colab": {
      "name": "LinearRegression.ipynb",
      "provenance": [],
      "collapsed_sections": [],
      "include_colab_link": true
    },
    "kernelspec": {
      "name": "python3",
      "display_name": "Python 3"
    }
  },
  "cells": [
    {
      "cell_type": "markdown",
      "metadata": {
        "id": "view-in-github",
        "colab_type": "text"
      },
      "source": [
        "<a href=\"https://colab.research.google.com/github/VictorMercier/Track-Data-Science/blob/main/LinearRegression.ipynb\" target=\"_parent\"><img src=\"https://colab.research.google.com/assets/colab-badge.svg\" alt=\"Open In Colab\"/></a>"
      ]
    },
    {
      "cell_type": "markdown",
      "metadata": {
        "id": "ObVEyo70Ii-U"
      },
      "source": [
        "#Linear Regression Introduction"
      ]
    },
    {
      "cell_type": "markdown",
      "metadata": {
        "id": "GFRc74x1cQek"
      },
      "source": [
        "Linear regression looks at the relationship between the data you have and the data you want to predict.\n",
        "\n",
        "Linear Regression is a basic and commonly used type of predictive analysis. It’s the most widely used of all statistical techniques. It quantifies the relationship between one or more predictor variables and one outcome variable.\n",
        "\n",
        "Linear regression models are used to show (or predict) the relationship between two variables or factors. Regression analysis is commonly used to show the correlation between two variables.\n"
      ]
    },
    {
      "cell_type": "code",
      "metadata": {
        "id": "N7KIuwFsUUGv"
      },
      "source": [
        "import numpy as np\n",
        "import matplotlib.pyplot as plt\n",
        "import pandas as pd\n",
        "from sklearn.linear_model import LinearRegression"
      ],
      "execution_count": 3,
      "outputs": []
    },
    {
      "cell_type": "code",
      "metadata": {
        "id": "7aVIgauJUUbr",
        "colab": {
          "base_uri": "https://localhost:8080/",
          "height": 419
        },
        "outputId": "f34a592b-7555-47ec-e939-584fa5e3f9a3"
      },
      "source": [
        "# J'ai importé un excel que j'ai vu dans une vidéo youtube où un mec explique comment on fait une regréssion linéaire. \n",
        "# Le excel est dans l'onglet fichier si vous voulez le voir. \n",
        "data = pd.read_excel(r\"oil_exxon.xlsx\")   \n",
        "data "
      ],
      "execution_count": 4,
      "outputs": [
        {
          "output_type": "execute_result",
          "data": {
            "text/html": [
              "<div>\n",
              "<style scoped>\n",
              "    .dataframe tbody tr th:only-of-type {\n",
              "        vertical-align: middle;\n",
              "    }\n",
              "\n",
              "    .dataframe tbody tr th {\n",
              "        vertical-align: top;\n",
              "    }\n",
              "\n",
              "    .dataframe thead th {\n",
              "        text-align: right;\n",
              "    }\n",
              "</style>\n",
              "<table border=\"1\" class=\"dataframe\">\n",
              "  <thead>\n",
              "    <tr style=\"text-align: right;\">\n",
              "      <th></th>\n",
              "      <th>date</th>\n",
              "      <th>exon_price</th>\n",
              "      <th>oil_price</th>\n",
              "    </tr>\n",
              "  </thead>\n",
              "  <tbody>\n",
              "    <tr>\n",
              "      <th>0</th>\n",
              "      <td>2014-03-28</td>\n",
              "      <td>97.699997</td>\n",
              "      <td>106.64</td>\n",
              "    </tr>\n",
              "    <tr>\n",
              "      <th>1</th>\n",
              "      <td>2014-03-31</td>\n",
              "      <td>97.680000</td>\n",
              "      <td>105.95</td>\n",
              "    </tr>\n",
              "    <tr>\n",
              "      <th>2</th>\n",
              "      <td>2014-04-01</td>\n",
              "      <td>97.730003</td>\n",
              "      <td>105.70</td>\n",
              "    </tr>\n",
              "    <tr>\n",
              "      <th>3</th>\n",
              "      <td>2014-04-02</td>\n",
              "      <td>97.949997</td>\n",
              "      <td>103.37</td>\n",
              "    </tr>\n",
              "    <tr>\n",
              "      <th>4</th>\n",
              "      <td>2014-04-03</td>\n",
              "      <td>97.930000</td>\n",
              "      <td>104.88</td>\n",
              "    </tr>\n",
              "    <tr>\n",
              "      <th>...</th>\n",
              "      <td>...</td>\n",
              "      <td>...</td>\n",
              "      <td>...</td>\n",
              "    </tr>\n",
              "    <tr>\n",
              "      <th>1251</th>\n",
              "      <td>2019-03-19</td>\n",
              "      <td>80.870003</td>\n",
              "      <td>67.13</td>\n",
              "    </tr>\n",
              "    <tr>\n",
              "      <th>1252</th>\n",
              "      <td>2019-03-20</td>\n",
              "      <td>81.320000</td>\n",
              "      <td>68.35</td>\n",
              "    </tr>\n",
              "    <tr>\n",
              "      <th>1253</th>\n",
              "      <td>2019-03-21</td>\n",
              "      <td>81.790001</td>\n",
              "      <td>68.30</td>\n",
              "    </tr>\n",
              "    <tr>\n",
              "      <th>1254</th>\n",
              "      <td>2019-03-22</td>\n",
              "      <td>80.480003</td>\n",
              "      <td>66.29</td>\n",
              "    </tr>\n",
              "    <tr>\n",
              "      <th>1255</th>\n",
              "      <td>2019-03-25</td>\n",
              "      <td>79.919998</td>\n",
              "      <td>67.37</td>\n",
              "    </tr>\n",
              "  </tbody>\n",
              "</table>\n",
              "<p>1256 rows × 3 columns</p>\n",
              "</div>"
            ],
            "text/plain": [
              "           date  exon_price  oil_price\n",
              "0    2014-03-28   97.699997     106.64\n",
              "1    2014-03-31   97.680000     105.95\n",
              "2    2014-04-01   97.730003     105.70\n",
              "3    2014-04-02   97.949997     103.37\n",
              "4    2014-04-03   97.930000     104.88\n",
              "...         ...         ...        ...\n",
              "1251 2019-03-19   80.870003      67.13\n",
              "1252 2019-03-20   81.320000      68.35\n",
              "1253 2019-03-21   81.790001      68.30\n",
              "1254 2019-03-22   80.480003      66.29\n",
              "1255 2019-03-25   79.919998      67.37\n",
              "\n",
              "[1256 rows x 3 columns]"
            ]
          },
          "metadata": {
            "tags": []
          },
          "execution_count": 4
        }
      ]
    },
    {
      "cell_type": "code",
      "metadata": {
        "id": "nhQpY6hJqPAm",
        "colab": {
          "base_uri": "https://localhost:8080/",
          "height": 450
        },
        "outputId": "a28740b3-4a49-4601-fc40-779ca3a6cdd2"
      },
      "source": [
        "# Ici je change la colonne Index tout à gauche par les dates pour une meilleure lisibitité du tableau\n",
        "data.index = pd.to_datetime(data[\"date\"])\n",
        "\n",
        "# Avec la fonction .drop() je retire la colonne date du tableau vu qu'elle est en index. \n",
        "data = data.drop('date', axis=1)\n",
        "data"
      ],
      "execution_count": 6,
      "outputs": [
        {
          "output_type": "execute_result",
          "data": {
            "text/html": [
              "<div>\n",
              "<style scoped>\n",
              "    .dataframe tbody tr th:only-of-type {\n",
              "        vertical-align: middle;\n",
              "    }\n",
              "\n",
              "    .dataframe tbody tr th {\n",
              "        vertical-align: top;\n",
              "    }\n",
              "\n",
              "    .dataframe thead th {\n",
              "        text-align: right;\n",
              "    }\n",
              "</style>\n",
              "<table border=\"1\" class=\"dataframe\">\n",
              "  <thead>\n",
              "    <tr style=\"text-align: right;\">\n",
              "      <th></th>\n",
              "      <th>exon_price</th>\n",
              "      <th>oil_price</th>\n",
              "    </tr>\n",
              "    <tr>\n",
              "      <th>date</th>\n",
              "      <th></th>\n",
              "      <th></th>\n",
              "    </tr>\n",
              "  </thead>\n",
              "  <tbody>\n",
              "    <tr>\n",
              "      <th>2014-03-28</th>\n",
              "      <td>97.699997</td>\n",
              "      <td>106.64</td>\n",
              "    </tr>\n",
              "    <tr>\n",
              "      <th>2014-03-31</th>\n",
              "      <td>97.680000</td>\n",
              "      <td>105.95</td>\n",
              "    </tr>\n",
              "    <tr>\n",
              "      <th>2014-04-01</th>\n",
              "      <td>97.730003</td>\n",
              "      <td>105.70</td>\n",
              "    </tr>\n",
              "    <tr>\n",
              "      <th>2014-04-02</th>\n",
              "      <td>97.949997</td>\n",
              "      <td>103.37</td>\n",
              "    </tr>\n",
              "    <tr>\n",
              "      <th>2014-04-03</th>\n",
              "      <td>97.930000</td>\n",
              "      <td>104.88</td>\n",
              "    </tr>\n",
              "    <tr>\n",
              "      <th>...</th>\n",
              "      <td>...</td>\n",
              "      <td>...</td>\n",
              "    </tr>\n",
              "    <tr>\n",
              "      <th>2019-03-19</th>\n",
              "      <td>80.870003</td>\n",
              "      <td>67.13</td>\n",
              "    </tr>\n",
              "    <tr>\n",
              "      <th>2019-03-20</th>\n",
              "      <td>81.320000</td>\n",
              "      <td>68.35</td>\n",
              "    </tr>\n",
              "    <tr>\n",
              "      <th>2019-03-21</th>\n",
              "      <td>81.790001</td>\n",
              "      <td>68.30</td>\n",
              "    </tr>\n",
              "    <tr>\n",
              "      <th>2019-03-22</th>\n",
              "      <td>80.480003</td>\n",
              "      <td>66.29</td>\n",
              "    </tr>\n",
              "    <tr>\n",
              "      <th>2019-03-25</th>\n",
              "      <td>79.919998</td>\n",
              "      <td>67.37</td>\n",
              "    </tr>\n",
              "  </tbody>\n",
              "</table>\n",
              "<p>1256 rows × 2 columns</p>\n",
              "</div>"
            ],
            "text/plain": [
              "            exon_price  oil_price\n",
              "date                             \n",
              "2014-03-28   97.699997     106.64\n",
              "2014-03-31   97.680000     105.95\n",
              "2014-04-01   97.730003     105.70\n",
              "2014-04-02   97.949997     103.37\n",
              "2014-04-03   97.930000     104.88\n",
              "...                ...        ...\n",
              "2019-03-19   80.870003      67.13\n",
              "2019-03-20   81.320000      68.35\n",
              "2019-03-21   81.790001      68.30\n",
              "2019-03-22   80.480003      66.29\n",
              "2019-03-25   79.919998      67.37\n",
              "\n",
              "[1256 rows x 2 columns]"
            ]
          },
          "metadata": {
            "tags": []
          },
          "execution_count": 6
        }
      ]
    },
    {
      "cell_type": "code",
      "metadata": {
        "id": "4_Ui-cG6uOPP",
        "colab": {
          "base_uri": "https://localhost:8080/",
          "height": 450
        },
        "outputId": "ad0fb3aa-01cd-4f78-830a-72f2515aa3c9"
      },
      "source": [
        "data"
      ],
      "execution_count": 7,
      "outputs": [
        {
          "output_type": "execute_result",
          "data": {
            "text/html": [
              "<div>\n",
              "<style scoped>\n",
              "    .dataframe tbody tr th:only-of-type {\n",
              "        vertical-align: middle;\n",
              "    }\n",
              "\n",
              "    .dataframe tbody tr th {\n",
              "        vertical-align: top;\n",
              "    }\n",
              "\n",
              "    .dataframe thead th {\n",
              "        text-align: right;\n",
              "    }\n",
              "</style>\n",
              "<table border=\"1\" class=\"dataframe\">\n",
              "  <thead>\n",
              "    <tr style=\"text-align: right;\">\n",
              "      <th></th>\n",
              "      <th>exon_price</th>\n",
              "      <th>oil_price</th>\n",
              "    </tr>\n",
              "    <tr>\n",
              "      <th>date</th>\n",
              "      <th></th>\n",
              "      <th></th>\n",
              "    </tr>\n",
              "  </thead>\n",
              "  <tbody>\n",
              "    <tr>\n",
              "      <th>2014-03-28</th>\n",
              "      <td>97.699997</td>\n",
              "      <td>106.64</td>\n",
              "    </tr>\n",
              "    <tr>\n",
              "      <th>2014-03-31</th>\n",
              "      <td>97.680000</td>\n",
              "      <td>105.95</td>\n",
              "    </tr>\n",
              "    <tr>\n",
              "      <th>2014-04-01</th>\n",
              "      <td>97.730003</td>\n",
              "      <td>105.70</td>\n",
              "    </tr>\n",
              "    <tr>\n",
              "      <th>2014-04-02</th>\n",
              "      <td>97.949997</td>\n",
              "      <td>103.37</td>\n",
              "    </tr>\n",
              "    <tr>\n",
              "      <th>2014-04-03</th>\n",
              "      <td>97.930000</td>\n",
              "      <td>104.88</td>\n",
              "    </tr>\n",
              "    <tr>\n",
              "      <th>...</th>\n",
              "      <td>...</td>\n",
              "      <td>...</td>\n",
              "    </tr>\n",
              "    <tr>\n",
              "      <th>2019-03-19</th>\n",
              "      <td>80.870003</td>\n",
              "      <td>67.13</td>\n",
              "    </tr>\n",
              "    <tr>\n",
              "      <th>2019-03-20</th>\n",
              "      <td>81.320000</td>\n",
              "      <td>68.35</td>\n",
              "    </tr>\n",
              "    <tr>\n",
              "      <th>2019-03-21</th>\n",
              "      <td>81.790001</td>\n",
              "      <td>68.30</td>\n",
              "    </tr>\n",
              "    <tr>\n",
              "      <th>2019-03-22</th>\n",
              "      <td>80.480003</td>\n",
              "      <td>66.29</td>\n",
              "    </tr>\n",
              "    <tr>\n",
              "      <th>2019-03-25</th>\n",
              "      <td>79.919998</td>\n",
              "      <td>67.37</td>\n",
              "    </tr>\n",
              "  </tbody>\n",
              "</table>\n",
              "<p>1256 rows × 2 columns</p>\n",
              "</div>"
            ],
            "text/plain": [
              "            exon_price  oil_price\n",
              "date                             \n",
              "2014-03-28   97.699997     106.64\n",
              "2014-03-31   97.680000     105.95\n",
              "2014-04-01   97.730003     105.70\n",
              "2014-04-02   97.949997     103.37\n",
              "2014-04-03   97.930000     104.88\n",
              "...                ...        ...\n",
              "2019-03-19   80.870003      67.13\n",
              "2019-03-20   81.320000      68.35\n",
              "2019-03-21   81.790001      68.30\n",
              "2019-03-22   80.480003      66.29\n",
              "2019-03-25   79.919998      67.37\n",
              "\n",
              "[1256 rows x 2 columns]"
            ]
          },
          "metadata": {
            "tags": []
          },
          "execution_count": 7
        }
      ]
    },
    {
      "cell_type": "code",
      "metadata": {
        "id": "qNHDIlTIuerF",
        "colab": {
          "base_uri": "https://localhost:8080/",
          "height": 450
        },
        "outputId": "33361099-0cda-4532-d105-1e757f352db6"
      },
      "source": [
        "data = data.rename(columns={\"exon_price\" : \"exxon_price\"})\n",
        "data "
      ],
      "execution_count": 8,
      "outputs": [
        {
          "output_type": "execute_result",
          "data": {
            "text/html": [
              "<div>\n",
              "<style scoped>\n",
              "    .dataframe tbody tr th:only-of-type {\n",
              "        vertical-align: middle;\n",
              "    }\n",
              "\n",
              "    .dataframe tbody tr th {\n",
              "        vertical-align: top;\n",
              "    }\n",
              "\n",
              "    .dataframe thead th {\n",
              "        text-align: right;\n",
              "    }\n",
              "</style>\n",
              "<table border=\"1\" class=\"dataframe\">\n",
              "  <thead>\n",
              "    <tr style=\"text-align: right;\">\n",
              "      <th></th>\n",
              "      <th>exxon_price</th>\n",
              "      <th>oil_price</th>\n",
              "    </tr>\n",
              "    <tr>\n",
              "      <th>date</th>\n",
              "      <th></th>\n",
              "      <th></th>\n",
              "    </tr>\n",
              "  </thead>\n",
              "  <tbody>\n",
              "    <tr>\n",
              "      <th>2014-03-28</th>\n",
              "      <td>97.699997</td>\n",
              "      <td>106.64</td>\n",
              "    </tr>\n",
              "    <tr>\n",
              "      <th>2014-03-31</th>\n",
              "      <td>97.680000</td>\n",
              "      <td>105.95</td>\n",
              "    </tr>\n",
              "    <tr>\n",
              "      <th>2014-04-01</th>\n",
              "      <td>97.730003</td>\n",
              "      <td>105.70</td>\n",
              "    </tr>\n",
              "    <tr>\n",
              "      <th>2014-04-02</th>\n",
              "      <td>97.949997</td>\n",
              "      <td>103.37</td>\n",
              "    </tr>\n",
              "    <tr>\n",
              "      <th>2014-04-03</th>\n",
              "      <td>97.930000</td>\n",
              "      <td>104.88</td>\n",
              "    </tr>\n",
              "    <tr>\n",
              "      <th>...</th>\n",
              "      <td>...</td>\n",
              "      <td>...</td>\n",
              "    </tr>\n",
              "    <tr>\n",
              "      <th>2019-03-19</th>\n",
              "      <td>80.870003</td>\n",
              "      <td>67.13</td>\n",
              "    </tr>\n",
              "    <tr>\n",
              "      <th>2019-03-20</th>\n",
              "      <td>81.320000</td>\n",
              "      <td>68.35</td>\n",
              "    </tr>\n",
              "    <tr>\n",
              "      <th>2019-03-21</th>\n",
              "      <td>81.790001</td>\n",
              "      <td>68.30</td>\n",
              "    </tr>\n",
              "    <tr>\n",
              "      <th>2019-03-22</th>\n",
              "      <td>80.480003</td>\n",
              "      <td>66.29</td>\n",
              "    </tr>\n",
              "    <tr>\n",
              "      <th>2019-03-25</th>\n",
              "      <td>79.919998</td>\n",
              "      <td>67.37</td>\n",
              "    </tr>\n",
              "  </tbody>\n",
              "</table>\n",
              "<p>1256 rows × 2 columns</p>\n",
              "</div>"
            ],
            "text/plain": [
              "            exxon_price  oil_price\n",
              "date                              \n",
              "2014-03-28    97.699997     106.64\n",
              "2014-03-31    97.680000     105.95\n",
              "2014-04-01    97.730003     105.70\n",
              "2014-04-02    97.949997     103.37\n",
              "2014-04-03    97.930000     104.88\n",
              "...                 ...        ...\n",
              "2019-03-19    80.870003      67.13\n",
              "2019-03-20    81.320000      68.35\n",
              "2019-03-21    81.790001      68.30\n",
              "2019-03-22    80.480003      66.29\n",
              "2019-03-25    79.919998      67.37\n",
              "\n",
              "[1256 rows x 2 columns]"
            ]
          },
          "metadata": {
            "tags": []
          },
          "execution_count": 8
        }
      ]
    },
    {
      "cell_type": "code",
      "metadata": {
        "id": "-6nVAomSue3N",
        "colab": {
          "base_uri": "https://localhost:8080/",
          "height": 552
        },
        "outputId": "c69efddc-b0c9-4d65-bf8d-13a4a8364c6b"
      },
      "source": [
        "# Je vérifie s'il y a des cases vides (i.e avec des NA ou NaN), on peut retirer le display\n",
        "display(data.isna().any())\n",
        "\n",
        "# Etant donné que j'ai True, je vais les enlever avec la fonction .dropna()\n",
        "data = data.dropna()\n",
        "data"
      ],
      "execution_count": 12,
      "outputs": [
        {
          "output_type": "display_data",
          "data": {
            "text/plain": [
              "exxon_price    False\n",
              "oil_price      False\n",
              "dtype: bool"
            ]
          },
          "metadata": {
            "tags": []
          }
        },
        {
          "output_type": "display_data",
          "data": {
            "text/plain": [
              "exxon_price    False\n",
              "oil_price      False\n",
              "dtype: bool"
            ]
          },
          "metadata": {
            "tags": []
          }
        },
        {
          "output_type": "execute_result",
          "data": {
            "text/html": [
              "<div>\n",
              "<style scoped>\n",
              "    .dataframe tbody tr th:only-of-type {\n",
              "        vertical-align: middle;\n",
              "    }\n",
              "\n",
              "    .dataframe tbody tr th {\n",
              "        vertical-align: top;\n",
              "    }\n",
              "\n",
              "    .dataframe thead th {\n",
              "        text-align: right;\n",
              "    }\n",
              "</style>\n",
              "<table border=\"1\" class=\"dataframe\">\n",
              "  <thead>\n",
              "    <tr style=\"text-align: right;\">\n",
              "      <th></th>\n",
              "      <th>exxon_price</th>\n",
              "      <th>oil_price</th>\n",
              "    </tr>\n",
              "    <tr>\n",
              "      <th>date</th>\n",
              "      <th></th>\n",
              "      <th></th>\n",
              "    </tr>\n",
              "  </thead>\n",
              "  <tbody>\n",
              "    <tr>\n",
              "      <th>2014-03-28</th>\n",
              "      <td>97.699997</td>\n",
              "      <td>106.64</td>\n",
              "    </tr>\n",
              "    <tr>\n",
              "      <th>2014-03-31</th>\n",
              "      <td>97.680000</td>\n",
              "      <td>105.95</td>\n",
              "    </tr>\n",
              "    <tr>\n",
              "      <th>2014-04-01</th>\n",
              "      <td>97.730003</td>\n",
              "      <td>105.70</td>\n",
              "    </tr>\n",
              "    <tr>\n",
              "      <th>2014-04-02</th>\n",
              "      <td>97.949997</td>\n",
              "      <td>103.37</td>\n",
              "    </tr>\n",
              "    <tr>\n",
              "      <th>2014-04-03</th>\n",
              "      <td>97.930000</td>\n",
              "      <td>104.88</td>\n",
              "    </tr>\n",
              "    <tr>\n",
              "      <th>...</th>\n",
              "      <td>...</td>\n",
              "      <td>...</td>\n",
              "    </tr>\n",
              "    <tr>\n",
              "      <th>2019-03-19</th>\n",
              "      <td>80.870003</td>\n",
              "      <td>67.13</td>\n",
              "    </tr>\n",
              "    <tr>\n",
              "      <th>2019-03-20</th>\n",
              "      <td>81.320000</td>\n",
              "      <td>68.35</td>\n",
              "    </tr>\n",
              "    <tr>\n",
              "      <th>2019-03-21</th>\n",
              "      <td>81.790001</td>\n",
              "      <td>68.30</td>\n",
              "    </tr>\n",
              "    <tr>\n",
              "      <th>2019-03-22</th>\n",
              "      <td>80.480003</td>\n",
              "      <td>66.29</td>\n",
              "    </tr>\n",
              "    <tr>\n",
              "      <th>2019-03-25</th>\n",
              "      <td>79.919998</td>\n",
              "      <td>67.37</td>\n",
              "    </tr>\n",
              "  </tbody>\n",
              "</table>\n",
              "<p>1248 rows × 2 columns</p>\n",
              "</div>"
            ],
            "text/plain": [
              "            exxon_price  oil_price\n",
              "date                              \n",
              "2014-03-28    97.699997     106.64\n",
              "2014-03-31    97.680000     105.95\n",
              "2014-04-01    97.730003     105.70\n",
              "2014-04-02    97.949997     103.37\n",
              "2014-04-03    97.930000     104.88\n",
              "...                 ...        ...\n",
              "2019-03-19    80.870003      67.13\n",
              "2019-03-20    81.320000      68.35\n",
              "2019-03-21    81.790001      68.30\n",
              "2019-03-22    80.480003      66.29\n",
              "2019-03-25    79.919998      67.37\n",
              "\n",
              "[1248 rows x 2 columns]"
            ]
          },
          "metadata": {
            "tags": []
          },
          "execution_count": 12
        }
      ]
    },
    {
      "cell_type": "code",
      "metadata": {
        "id": "wGRfJTW2yf6I",
        "colab": {
          "base_uri": "https://localhost:8080/",
          "height": 295
        },
        "outputId": "d5e77144-df34-4964-c43f-fa8663698c10"
      },
      "source": [
        "# Je définis mes axes x et y \n",
        "x = data[\"exxon_price\"]\n",
        "y = data[\"oil_price\"]\n",
        "\n",
        "# 1er graph simple sous forme de rond, d'où le \"o\" qui indique le format, \"cercles\". \n",
        "plt.plot(x, y, \"o\", color = \"green\", label = \"Daily Price\")\n",
        "plt.title(\"Exxon Vs. Oil\")\n",
        "plt.xlabel(\"Exxon Mobile\")\n",
        "plt.ylabel(\"Oil\")\n",
        "plt.legend()\n",
        "plt.show()"
      ],
      "execution_count": 15,
      "outputs": [
        {
          "output_type": "display_data",
          "data": {
            "image/png": "[encoded data removed]",
            "text/plain": [
              "<Figure size 432x288 with 1 Axes>"
            ]
          },
          "metadata": {
            "tags": [],
            "needs_background": "light"
          }
        }
      ]
    },
    {
      "cell_type": "code",
      "metadata": {
        "colab": {
          "base_uri": "https://localhost:8080/",
          "height": 111
        },
        "id": "LL74NsTgAo55",
        "outputId": "4393eab4-0f9b-4cbd-aa26-25856341eccd"
      },
      "source": [
        "#mesurer la corrélation\n",
        "data.corr()"
      ],
      "execution_count": 17,
      "outputs": [
        {
          "output_type": "execute_result",
          "data": {
            "text/html": [
              "<div>\n",
              "<style scoped>\n",
              "    .dataframe tbody tr th:only-of-type {\n",
              "        vertical-align: middle;\n",
              "    }\n",
              "\n",
              "    .dataframe tbody tr th {\n",
              "        vertical-align: top;\n",
              "    }\n",
              "\n",
              "    .dataframe thead th {\n",
              "        text-align: right;\n",
              "    }\n",
              "</style>\n",
              "<table border=\"1\" class=\"dataframe\">\n",
              "  <thead>\n",
              "    <tr style=\"text-align: right;\">\n",
              "      <th></th>\n",
              "      <th>exxon_price</th>\n",
              "      <th>oil_price</th>\n",
              "    </tr>\n",
              "  </thead>\n",
              "  <tbody>\n",
              "    <tr>\n",
              "      <th>exxon_price</th>\n",
              "      <td>1.00000</td>\n",
              "      <td>0.60132</td>\n",
              "    </tr>\n",
              "    <tr>\n",
              "      <th>oil_price</th>\n",
              "      <td>0.60132</td>\n",
              "      <td>1.00000</td>\n",
              "    </tr>\n",
              "  </tbody>\n",
              "</table>\n",
              "</div>"
            ],
            "text/plain": [
              "             exxon_price  oil_price\n",
              "exxon_price      1.00000    0.60132\n",
              "oil_price        0.60132    1.00000"
            ]
          },
          "metadata": {
            "tags": []
          },
          "execution_count": 17
        }
      ]
    },
    {
      "cell_type": "markdown",
      "metadata": {
        "id": "JTviiuamA3Nl"
      },
      "source": [
        "Strong relationship as r > 0.6\n"
      ]
    },
    {
      "cell_type": "code",
      "metadata": {
        "colab": {
          "base_uri": "https://localhost:8080/",
          "height": 297
        },
        "id": "U_3JA4URBKCz",
        "outputId": "64da7a11-017f-4e62-812a-85f8e4c1561d"
      },
      "source": [
        "#juste avoir la description des données\n",
        "\n",
        "data.describe()"
      ],
      "execution_count": 18,
      "outputs": [
        {
          "output_type": "execute_result",
          "data": {
            "text/html": [
              "<div>\n",
              "<style scoped>\n",
              "    .dataframe tbody tr th:only-of-type {\n",
              "        vertical-align: middle;\n",
              "    }\n",
              "\n",
              "    .dataframe tbody tr th {\n",
              "        vertical-align: top;\n",
              "    }\n",
              "\n",
              "    .dataframe thead th {\n",
              "        text-align: right;\n",
              "    }\n",
              "</style>\n",
              "<table border=\"1\" class=\"dataframe\">\n",
              "  <thead>\n",
              "    <tr style=\"text-align: right;\">\n",
              "      <th></th>\n",
              "      <th>exxon_price</th>\n",
              "      <th>oil_price</th>\n",
              "    </tr>\n",
              "  </thead>\n",
              "  <tbody>\n",
              "    <tr>\n",
              "      <th>count</th>\n",
              "      <td>1248.000000</td>\n",
              "      <td>1248.000000</td>\n",
              "    </tr>\n",
              "    <tr>\n",
              "      <th>mean</th>\n",
              "      <td>84.802796</td>\n",
              "      <td>61.935000</td>\n",
              "    </tr>\n",
              "    <tr>\n",
              "      <th>std</th>\n",
              "      <td>7.424687</td>\n",
              "      <td>19.288424</td>\n",
              "    </tr>\n",
              "    <tr>\n",
              "      <th>min</th>\n",
              "      <td>68.120003</td>\n",
              "      <td>26.010000</td>\n",
              "    </tr>\n",
              "    <tr>\n",
              "      <th>25%</th>\n",
              "      <td>80.190002</td>\n",
              "      <td>48.162500</td>\n",
              "    </tr>\n",
              "    <tr>\n",
              "      <th>50%</th>\n",
              "      <td>83.024998</td>\n",
              "      <td>57.120000</td>\n",
              "    </tr>\n",
              "    <tr>\n",
              "      <th>75%</th>\n",
              "      <td>88.529999</td>\n",
              "      <td>70.725000</td>\n",
              "    </tr>\n",
              "    <tr>\n",
              "      <th>max</th>\n",
              "      <td>104.379997</td>\n",
              "      <td>115.190000</td>\n",
              "    </tr>\n",
              "  </tbody>\n",
              "</table>\n",
              "</div>"
            ],
            "text/plain": [
              "       exxon_price    oil_price\n",
              "count  1248.000000  1248.000000\n",
              "mean     84.802796    61.935000\n",
              "std       7.424687    19.288424\n",
              "min      68.120003    26.010000\n",
              "25%      80.190002    48.162500\n",
              "50%      83.024998    57.120000\n",
              "75%      88.529999    70.725000\n",
              "max     104.379997   115.190000"
            ]
          },
          "metadata": {
            "tags": []
          },
          "execution_count": 18
        }
      ]
    },
    {
      "cell_type": "markdown",
      "metadata": {
        "id": "eaaIsUxBC8Od"
      },
      "source": [
        "75% des valeurs sont comprises entre mean - std < mean < mean + std, donc faible dispersion des valeurs"
      ]
    },
    {
      "cell_type": "markdown",
      "metadata": {
        "id": "izIxXw8-DbK1"
      },
      "source": [
        "#Cheking for Outliers and Skewness"
      ]
    },
    {
      "cell_type": "code",
      "metadata": {
        "colab": {
          "base_uri": "https://localhost:8080/",
          "height": 352
        },
        "id": "TAwHhdOFDe84",
        "outputId": "902f45fb-5103-4a15-e29c-7c6fe3970290"
      },
      "source": [
        "data.hist(grid=True, color = \"purple\")"
      ],
      "execution_count": 19,
      "outputs": [
        {
          "output_type": "execute_result",
          "data": {
            "text/plain": [
              "array([[<matplotlib.axes._subplots.AxesSubplot object at 0x7f320ca3e198>,\n",
              "        <matplotlib.axes._subplots.AxesSubplot object at 0x7f320ca6b240>]],\n",
              "      dtype=object)"
            ]
          },
          "metadata": {
            "tags": []
          },
          "execution_count": 19
        },
        {
          "output_type": "display_data",
          "data": {
            "image/png": "[encoded data removed]",
            "text/plain": [
              "<Figure size 432x288 with 2 Axes>"
            ]
          },
          "metadata": {
            "tags": [],
            "needs_background": "light"
          }
        }
      ]
    },
    {
      "cell_type": "markdown",
      "metadata": {
        "id": "WgLO-KyLDxN6"
      },
      "source": [
        "Looks like normal distribution so it seems that is not a lot of outliers. However it looks a little bit left-skewed"
      ]
    },
    {
      "cell_type": "markdown",
      "metadata": {
        "id": "KCXIAozeEMEk"
      },
      "source": [
        "#Calculate kurtosis and skewness"
      ]
    },
    {
      "cell_type": "code",
      "metadata": {
        "id": "tBSQg66RELMz"
      },
      "source": [
        "from scipy import stats\n",
        "from scipy.stats import kurtosis, skew"
      ],
      "execution_count": 24,
      "outputs": []
    },
    {
      "cell_type": "code",
      "metadata": {
        "colab": {
          "base_uri": "https://localhost:8080/",
          "height": 97
        },
        "id": "Q80Vl52NE5De",
        "outputId": "99f45b8a-24f0-49fc-f307-f880681c3ddf"
      },
      "source": [
        "#je calcule l'excès kurtosis en utilisant la méthode fisher. L'alternative c'est Pearson mais anyway. Kurtosis doit être proche de 0, sous Person proche de 3.\n",
        "exxon_kurtosis = kurtosis(data[\"exxon_price\"], fisher = True)\n",
        "oil_kurtosis = kurtosis(data[\"exxon_price\"], fisher = True)\n",
        "\n",
        "#je calcule le skewness\n",
        "exxon_skew = skew(data[\"exxon_price\"])\n",
        "oil_skew = skew(data[\"oil_price\"])\n",
        "\n",
        "display('Exxon Kurtosis: {:2}'.format(exxon_kurtosis))\n",
        "display('Oil Kurtosis: {:2}'.format(oil_kurtosis))\n",
        "\n",
        "display('Exxon Skew: {:2}'.format(exxon_skew))\n",
        "display('Oil Skew: {:2}'.format(oil_skew))"
      ],
      "execution_count": 29,
      "outputs": [
        {
          "output_type": "display_data",
          "data": {
            "application/vnd.google.colaboratory.intrinsic+json": {
              "type": "string"
            },
            "text/plain": [
              "'Exxon Kurtosis: 0.08838507514930338'"
            ]
          },
          "metadata": {
            "tags": []
          }
        },
        {
          "output_type": "display_data",
          "data": {
            "application/vnd.google.colaboratory.intrinsic+json": {
              "type": "string"
            },
            "text/plain": [
              "'Oil Kurtosis: 0.08838507514930338'"
            ]
          },
          "metadata": {
            "tags": []
          }
        },
        {
          "output_type": "display_data",
          "data": {
            "application/vnd.google.colaboratory.intrinsic+json": {
              "type": "string"
            },
            "text/plain": [
              "'Exxon Skew: 0.66024881165324'"
            ]
          },
          "metadata": {
            "tags": []
          }
        },
        {
          "output_type": "display_data",
          "data": {
            "application/vnd.google.colaboratory.intrinsic+json": {
              "type": "string"
            },
            "text/plain": [
              "'Oil Skew: 1.024326574686099'"
            ]
          },
          "metadata": {
            "tags": []
          }
        }
      ]
    },
    {
      "cell_type": "code",
      "metadata": {
        "id": "J6g5RHDvyf_x",
        "colab": {
          "base_uri": "https://localhost:8080/"
        },
        "outputId": "6df1818f-12a8-48b8-ba4c-61c494eef084"
      },
      "source": [
        "#m is the slope = la pente \n",
        "#b is the intercept = point d'intersection avec l'axe\n",
        "m, b = np.polyfit(x,y,1)\n",
        "# Cette fonction permet de calculer m et b afin de faire la droite sur le graph\n",
        "\n",
        "print (m)\n",
        "print (b)"
      ],
      "execution_count": null,
      "outputs": [
        {
          "output_type": "stream",
          "text": [
            "1.5621549633978147\n",
            "-70.54010935609301\n"
          ],
          "name": "stdout"
        }
      ]
    },
    {
      "cell_type": "markdown",
      "metadata": {
        "id": "Nqg-IAX4AfG-"
      },
      "source": [
        "About the np.polyfit: \n",
        "It is a pretty general least squares polynomial fit function which accepts the data set and a polynomial function of any degree (specified by the user), and returns a vector of coefficients p that minimises the squared error."
      ]
    },
    {
      "cell_type": "code",
      "metadata": {
        "id": "omR07h3p7xtt",
        "colab": {
          "base_uri": "https://localhost:8080/",
          "height": 232
        },
        "outputId": "2646f48b-8f3b-4ee6-e30f-6974eecf8691"
      },
      "source": [
        "\n",
        "plt.plot(x, y, \"bo\", color = \"green\")\n",
        "plt.title(\"Exxon Vs. Oil\")\n",
        "plt.xlabel(\"Exxon Mobile\")\n",
        "plt.ylabel(\"Oil\")\n",
        "\n",
        "# Avec les données au dessus je peux calculer ma fonction (y = ax+b) et trouver la droite \n",
        "plt.plot(x , m*x+b)"
      ],
      "execution_count": null,
      "outputs": [
        {
          "output_type": "error",
          "ename": "NameError",
          "evalue": "ignored",
          "traceback": [
            "\u001b[0;31m---------------------------------------------------------------------------\u001b[0m",
            "\u001b[0;31mNameError\u001b[0m                                 Traceback (most recent call last)",
            "\u001b[0;32m<ipython-input-1-a61f7a6340bd>\u001b[0m in \u001b[0;36m<module>\u001b[0;34m()\u001b[0m\n\u001b[1;32m      1\u001b[0m \u001b[0;34m\u001b[0m\u001b[0m\n\u001b[0;32m----> 2\u001b[0;31m \u001b[0mplt\u001b[0m\u001b[0;34m.\u001b[0m\u001b[0mplot\u001b[0m\u001b[0;34m(\u001b[0m\u001b[0mx\u001b[0m\u001b[0;34m,\u001b[0m \u001b[0my\u001b[0m\u001b[0;34m,\u001b[0m \u001b[0mcolor\u001b[0m \u001b[0;34m=\u001b[0m \u001b[0;34m\"green\"\u001b[0m\u001b[0;34m)\u001b[0m\u001b[0;34m\u001b[0m\u001b[0;34m\u001b[0m\u001b[0m\n\u001b[0m\u001b[1;32m      3\u001b[0m \u001b[0mplt\u001b[0m\u001b[0;34m.\u001b[0m\u001b[0mtitle\u001b[0m\u001b[0;34m(\u001b[0m\u001b[0;34m\"Exxon Vs. Oil\"\u001b[0m\u001b[0;34m)\u001b[0m\u001b[0;34m\u001b[0m\u001b[0;34m\u001b[0m\u001b[0m\n\u001b[1;32m      4\u001b[0m \u001b[0mplt\u001b[0m\u001b[0;34m.\u001b[0m\u001b[0mxlabel\u001b[0m\u001b[0;34m(\u001b[0m\u001b[0;34m\"Exxon Mobile\"\u001b[0m\u001b[0;34m)\u001b[0m\u001b[0;34m\u001b[0m\u001b[0;34m\u001b[0m\u001b[0m\n\u001b[1;32m      5\u001b[0m \u001b[0mplt\u001b[0m\u001b[0;34m.\u001b[0m\u001b[0mylabel\u001b[0m\u001b[0;34m(\u001b[0m\u001b[0;34m\"Oil\"\u001b[0m\u001b[0;34m)\u001b[0m\u001b[0;34m\u001b[0m\u001b[0;34m\u001b[0m\u001b[0m\n",
            "\u001b[0;31mNameError\u001b[0m: name 'plt' is not defined"
          ]
        }
      ]
    },
    {
      "cell_type": "markdown",
      "metadata": {
        "id": "pc8obGYmccWO"
      },
      "source": [
        "The np.polyfit() function is an easy way to perfom a polynomial function as mentioned before. \n",
        "However, what we want to be able to do with our linear regression model is to be able to predict future values. In fact, we want to see here if exxon's stock price is correlated to the oil stock price. \n",
        "In other word, if the oil stock price increases, does the exxon stock price increases too ? "
      ]
    },
    {
      "cell_type": "code",
      "metadata": {
        "id": "ek8_6Okw7xw5",
        "colab": {
          "base_uri": "https://localhost:8080/",
          "height": 111
        },
        "outputId": "5ea79ab3-4987-481b-e404-4a25dc7320b5"
      },
      "source": [
        "#Trouver la corrélation entre les 2 variables \n",
        "data.corr()"
      ],
      "execution_count": null,
      "outputs": [
        {
          "output_type": "execute_result",
          "data": {
            "text/html": [
              "<div>\n",
              "<style scoped>\n",
              "    .dataframe tbody tr th:only-of-type {\n",
              "        vertical-align: middle;\n",
              "    }\n",
              "\n",
              "    .dataframe tbody tr th {\n",
              "        vertical-align: top;\n",
              "    }\n",
              "\n",
              "    .dataframe thead th {\n",
              "        text-align: right;\n",
              "    }\n",
              "</style>\n",
              "<table border=\"1\" class=\"dataframe\">\n",
              "  <thead>\n",
              "    <tr style=\"text-align: right;\">\n",
              "      <th></th>\n",
              "      <th>exxon_price</th>\n",
              "      <th>oil_price</th>\n",
              "    </tr>\n",
              "  </thead>\n",
              "  <tbody>\n",
              "    <tr>\n",
              "      <th>exxon_price</th>\n",
              "      <td>1.00000</td>\n",
              "      <td>0.60132</td>\n",
              "    </tr>\n",
              "    <tr>\n",
              "      <th>oil_price</th>\n",
              "      <td>0.60132</td>\n",
              "      <td>1.00000</td>\n",
              "    </tr>\n",
              "  </tbody>\n",
              "</table>\n",
              "</div>"
            ],
            "text/plain": [
              "             exxon_price  oil_price\n",
              "exxon_price      1.00000    0.60132\n",
              "oil_price        0.60132    1.00000"
            ]
          },
          "metadata": {
            "tags": []
          },
          "execution_count": 61
        }
      ]
    },
    {
      "cell_type": "markdown",
      "metadata": {
        "id": "mvR5LAUO_RFo"
      },
      "source": [
        "\n",
        "\n",
        "*   Very strong relationship (|r|>0.8 =>)\n",
        "*   Strong relationship (0.6≤|r|)\n",
        "*   Moderate relationship (0.4≤|r|)\n",
        "*   Weak relationship (0.2≤|r|)\n",
        "*  Very weak relationship (|r|)\n",
        "\n",
        "\n",
        "\n",
        "\n",
        "\n",
        "\n",
        "\n",
        "\n",
        "\n",
        "\n",
        "\n",
        "\n",
        "\n",
        "\n",
        "\n"
      ]
    },
    {
      "cell_type": "code",
      "metadata": {
        "id": "p8ulmy707x3N",
        "colab": {
          "base_uri": "https://localhost:8080/"
        },
        "outputId": "ca5160ad-d841-4fc0-83b7-2753499ac3e0"
      },
      "source": [
        "# As we  want to see if the stock price of exxon is correlated to the oil stock price \n",
        "# We will then have X (input) equal to oil price and Y (the output) equal to the exxon stock price\n",
        "X = data[[\"oil_price\"]]\n",
        "y = data.drop(\"oil_price\", axis=1)\n",
        "\n",
        "print(X)\n",
        "print(y)"
      ],
      "execution_count": null,
      "outputs": [
        {
          "output_type": "stream",
          "text": [
            "            oil_price\n",
            "date                 \n",
            "2014-03-28     106.64\n",
            "2014-03-31     105.95\n",
            "2014-04-01     105.70\n",
            "2014-04-02     103.37\n",
            "2014-04-03     104.88\n",
            "...               ...\n",
            "2019-03-19      67.13\n",
            "2019-03-20      68.35\n",
            "2019-03-21      68.30\n",
            "2019-03-22      66.29\n",
            "2019-03-25      67.37\n",
            "\n",
            "[1248 rows x 1 columns]\n",
            "            exxon_price\n",
            "date                   \n",
            "2014-03-28    97.699997\n",
            "2014-03-31    97.680000\n",
            "2014-04-01    97.730003\n",
            "2014-04-02    97.949997\n",
            "2014-04-03    97.930000\n",
            "...                 ...\n",
            "2019-03-19    80.870003\n",
            "2019-03-20    81.320000\n",
            "2019-03-21    81.790001\n",
            "2019-03-22    80.480003\n",
            "2019-03-25    79.919998\n",
            "\n",
            "[1248 rows x 1 columns]\n"
          ],
          "name": "stdout"
        }
      ]
    },
    {
      "cell_type": "code",
      "metadata": {
        "id": "iD5eOtI4hn4P"
      },
      "source": [
        "# Split the data to train them and then test them\n",
        "# The train size will represent 80% of our data and the test will\n",
        "from sklearn.model_selection import train_test_split\n",
        "X_train, X_test, y_train, y_test = train_test_split(X, y, test_size=0.3, random_state=1)"
      ],
      "execution_count": null,
      "outputs": []
    },
    {
      "cell_type": "code",
      "metadata": {
        "id": "BG6qvNvyhngP",
        "colab": {
          "base_uri": "https://localhost:8080/"
        },
        "outputId": "6258aec0-5e5c-4de4-9f01-b18d108d4e66"
      },
      "source": [
        "# Now that we have our X and y, we have to create a model and fit it. \n",
        "model = LinearRegression()\n",
        "model.fit(X_train, y_train)\n",
        "\n",
        "# Now that we have our regression model, we can make some predictions: \n",
        "y_predict = model.predict(X_test)\n",
        "\n",
        "# An example of the first 4 predictions:\n",
        "y_predict[:4]"
      ],
      "execution_count": null,
      "outputs": [
        {
          "output_type": "execute_result",
          "data": {
            "text/plain": [
              "array([[82.23530265],\n",
              "       [82.87451035],\n",
              "       [81.48245802],\n",
              "       [78.9256272 ]])"
            ]
          },
          "metadata": {
            "tags": []
          },
          "execution_count": 77
        }
      ]
    },
    {
      "cell_type": "code",
      "metadata": {
        "id": "wOY0rlwJhnwD",
        "colab": {
          "base_uri": "https://localhost:8080/",
          "height": 295
        },
        "outputId": "2e52f968-2503-49f9-a99f-db3966ef8a77"
      },
      "source": [
        "# Let's built our model \n",
        "plt.scatter(X_test, y_test, color = \"orange\", label =\"Price\")\n",
        "plt.plot(X_test, y_predict, color = \"blue\", linewidth = 2, label = \"Regression line\")\n",
        "\n",
        "plt.title(\"Linear Regression Exxon Mobile Vs. Oil\")\n",
        "plt.xlabel(\"Oil\")\n",
        "plt.ylabel(\"Exxon Mobile\")\n",
        "plt.legend()\n",
        "plt.show()\n"
      ],
      "execution_count": null,
      "outputs": [
        {
          "output_type": "display_data",
          "data": {
            "image/png": "[encoded data removed]",
            "text/plain": [
              "<Figure size 432x288 with 1 Axes>"
            ]
          },
          "metadata": {
            "tags": [],
            "needs_background": "light"
          }
        }
      ]
    },
    {
      "cell_type": "markdown",
      "metadata": {
        "id": "D1lU2sahsvgg"
      },
      "source": [
        "Now that we have seen the linear regression with one variable, let's try with multiple variables. \n",
        "\n",
        "# Multiple Regression \n"
      ]
    },
    {
      "cell_type": "code",
      "metadata": {
        "id": "vjYXghQxOcJ2"
      },
      "source": [
        ""
      ],
      "execution_count": null,
      "outputs": []
    }
  ]
}