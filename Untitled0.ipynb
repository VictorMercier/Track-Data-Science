{
  "nbformat": 4,
  "nbformat_minor": 0,
  "metadata": {
    "colab": {
      "name": "Untitled0.ipynb",
      "provenance": [],
      "collapsed_sections": [],
      "include_colab_link": true
    },
    "kernelspec": {
      "name": "python3",
      "display_name": "Python 3"
    }
  },
  "cells": [
    {
      "cell_type": "markdown",
      "metadata": {
        "id": "view-in-github",
        "colab_type": "text"
      },
      "source": [
        "<a href=\"https://colab.research.google.com/github/VictorMercier/Track-Data-Science/blob/main/Untitled0.ipynb\" target=\"_parent\"><img src=\"https://colab.research.google.com/assets/colab-badge.svg\" alt=\"Open In Colab\"/></a>"
      ]
    },
    {
      "cell_type": "markdown",
      "metadata": {
        "id": "ObVEyo70Ii-U"
      },
      "source": [
        "#Linear Regression Introduction"
      ]
    },
    {
      "cell_type": "markdown",
      "metadata": {
        "id": "GFRc74x1cQek"
      },
      "source": [
        "Linear regression looks at the relationship between the data you have and the data you want to predict.\n",
        "\n",
        "Linear Regression is a basic and commonly used type of predictive analysis. It’s the most widely used of all statistical techniques. It quantifies the relationship between one or more predictor variables and one outcome variable.\n",
        "\n",
        "Linear regression models are used to show (or predict) the relationship between two variables or factors. Regression analysis is commonly used to show the correlation between two variables.\n"
      ]
    },
    {
      "cell_type": "markdown",
      "metadata": {
        "id": "IKWPNN0OcPTD"
      },
      "source": [
        ""
      ]
    },
    {
      "cell_type": "code",
      "metadata": {
        "id": "N7KIuwFsUUGv"
      },
      "source": [
        "import numpy as np\n",
        "import matplotlib.pyplot as plt\n",
        "import pandas as pd\n",
        "from sklearn.linear_model import LinearRegression"
      ],
      "execution_count": 7,
      "outputs": []
    },
    {
      "cell_type": "code",
      "metadata": {
        "id": "7aVIgauJUUbr",
        "outputId": "350f4f10-2553-4762-c1c1-7dd7621bacb9",
        "colab": {
          "base_uri": "https://localhost:8080/",
          "height": 419
        }
      },
      "source": [
        "# J'ai importé un excel que j'ai vu dans une vidéo youtube où un mec explique comment on fait une regréssion linéaire. \n",
        "# Le excel est dans l'onglet fichier si vous voulez le voir. \n",
        "data = pd.read_excel(r\"oil_exxon.xlsx\")\n",
        "data "
      ],
      "execution_count": 18,
      "outputs": [
        {
          "output_type": "execute_result",
          "data": {
            "text/html": [
              "<div>\n",
              "<style scoped>\n",
              "    .dataframe tbody tr th:only-of-type {\n",
              "        vertical-align: middle;\n",
              "    }\n",
              "\n",
              "    .dataframe tbody tr th {\n",
              "        vertical-align: top;\n",
              "    }\n",
              "\n",
              "    .dataframe thead th {\n",
              "        text-align: right;\n",
              "    }\n",
              "</style>\n",
              "<table border=\"1\" class=\"dataframe\">\n",
              "  <thead>\n",
              "    <tr style=\"text-align: right;\">\n",
              "      <th></th>\n",
              "      <th>date</th>\n",
              "      <th>exon_price</th>\n",
              "      <th>oil_price</th>\n",
              "    </tr>\n",
              "  </thead>\n",
              "  <tbody>\n",
              "    <tr>\n",
              "      <th>0</th>\n",
              "      <td>2014-03-28</td>\n",
              "      <td>97.699997</td>\n",
              "      <td>106.64</td>\n",
              "    </tr>\n",
              "    <tr>\n",
              "      <th>1</th>\n",
              "      <td>2014-03-31</td>\n",
              "      <td>97.680000</td>\n",
              "      <td>105.95</td>\n",
              "    </tr>\n",
              "    <tr>\n",
              "      <th>2</th>\n",
              "      <td>2014-04-01</td>\n",
              "      <td>97.730003</td>\n",
              "      <td>105.70</td>\n",
              "    </tr>\n",
              "    <tr>\n",
              "      <th>3</th>\n",
              "      <td>2014-04-02</td>\n",
              "      <td>97.949997</td>\n",
              "      <td>103.37</td>\n",
              "    </tr>\n",
              "    <tr>\n",
              "      <th>4</th>\n",
              "      <td>2014-04-03</td>\n",
              "      <td>97.930000</td>\n",
              "      <td>104.88</td>\n",
              "    </tr>\n",
              "    <tr>\n",
              "      <th>...</th>\n",
              "      <td>...</td>\n",
              "      <td>...</td>\n",
              "      <td>...</td>\n",
              "    </tr>\n",
              "    <tr>\n",
              "      <th>1251</th>\n",
              "      <td>2019-03-19</td>\n",
              "      <td>80.870003</td>\n",
              "      <td>67.13</td>\n",
              "    </tr>\n",
              "    <tr>\n",
              "      <th>1252</th>\n",
              "      <td>2019-03-20</td>\n",
              "      <td>81.320000</td>\n",
              "      <td>68.35</td>\n",
              "    </tr>\n",
              "    <tr>\n",
              "      <th>1253</th>\n",
              "      <td>2019-03-21</td>\n",
              "      <td>81.790001</td>\n",
              "      <td>68.30</td>\n",
              "    </tr>\n",
              "    <tr>\n",
              "      <th>1254</th>\n",
              "      <td>2019-03-22</td>\n",
              "      <td>80.480003</td>\n",
              "      <td>66.29</td>\n",
              "    </tr>\n",
              "    <tr>\n",
              "      <th>1255</th>\n",
              "      <td>2019-03-25</td>\n",
              "      <td>79.919998</td>\n",
              "      <td>67.37</td>\n",
              "    </tr>\n",
              "  </tbody>\n",
              "</table>\n",
              "<p>1256 rows × 3 columns</p>\n",
              "</div>"
            ],
            "text/plain": [
              "           date  exon_price  oil_price\n",
              "0    2014-03-28   97.699997     106.64\n",
              "1    2014-03-31   97.680000     105.95\n",
              "2    2014-04-01   97.730003     105.70\n",
              "3    2014-04-02   97.949997     103.37\n",
              "4    2014-04-03   97.930000     104.88\n",
              "...         ...         ...        ...\n",
              "1251 2019-03-19   80.870003      67.13\n",
              "1252 2019-03-20   81.320000      68.35\n",
              "1253 2019-03-21   81.790001      68.30\n",
              "1254 2019-03-22   80.480003      66.29\n",
              "1255 2019-03-25   79.919998      67.37\n",
              "\n",
              "[1256 rows x 3 columns]"
            ]
          },
          "metadata": {
            "tags": []
          },
          "execution_count": 18
        }
      ]
    },
    {
      "cell_type": "code",
      "metadata": {
        "id": "nhQpY6hJqPAm"
      },
      "source": [
        "# Ici je change la colonne Index tout à gauche par les dates pour une meilleure lisibitité du tableau\n",
        "data.index = pd.to_datetime(data['date'])\n",
        "\n",
        "# Avec la fonction .drop() je retire la colonne date du tableau vu qu'elle est en index. \n",
        "data = data.drop(['date'], axis=1)\n",
        "data"
      ],
      "execution_count": null,
      "outputs": []
    },
    {
      "cell_type": "code",
      "metadata": {
        "id": "4_Ui-cG6uOPP",
        "outputId": "6e435252-f1a8-4bc5-94aa-0c67ad18ddbb",
        "colab": {
          "base_uri": "https://localhost:8080/",
          "height": 450
        }
      },
      "source": [
        "data"
      ],
      "execution_count": 34,
      "outputs": [
        {
          "output_type": "execute_result",
          "data": {
            "text/html": [
              "<div>\n",
              "<style scoped>\n",
              "    .dataframe tbody tr th:only-of-type {\n",
              "        vertical-align: middle;\n",
              "    }\n",
              "\n",
              "    .dataframe tbody tr th {\n",
              "        vertical-align: top;\n",
              "    }\n",
              "\n",
              "    .dataframe thead th {\n",
              "        text-align: right;\n",
              "    }\n",
              "</style>\n",
              "<table border=\"1\" class=\"dataframe\">\n",
              "  <thead>\n",
              "    <tr style=\"text-align: right;\">\n",
              "      <th></th>\n",
              "      <th>exon_price</th>\n",
              "      <th>oil_price</th>\n",
              "    </tr>\n",
              "    <tr>\n",
              "      <th>date</th>\n",
              "      <th></th>\n",
              "      <th></th>\n",
              "    </tr>\n",
              "  </thead>\n",
              "  <tbody>\n",
              "    <tr>\n",
              "      <th>2014-03-28</th>\n",
              "      <td>97.699997</td>\n",
              "      <td>106.64</td>\n",
              "    </tr>\n",
              "    <tr>\n",
              "      <th>2014-03-31</th>\n",
              "      <td>97.680000</td>\n",
              "      <td>105.95</td>\n",
              "    </tr>\n",
              "    <tr>\n",
              "      <th>2014-04-01</th>\n",
              "      <td>97.730003</td>\n",
              "      <td>105.70</td>\n",
              "    </tr>\n",
              "    <tr>\n",
              "      <th>2014-04-02</th>\n",
              "      <td>97.949997</td>\n",
              "      <td>103.37</td>\n",
              "    </tr>\n",
              "    <tr>\n",
              "      <th>2014-04-03</th>\n",
              "      <td>97.930000</td>\n",
              "      <td>104.88</td>\n",
              "    </tr>\n",
              "    <tr>\n",
              "      <th>...</th>\n",
              "      <td>...</td>\n",
              "      <td>...</td>\n",
              "    </tr>\n",
              "    <tr>\n",
              "      <th>2019-03-19</th>\n",
              "      <td>80.870003</td>\n",
              "      <td>67.13</td>\n",
              "    </tr>\n",
              "    <tr>\n",
              "      <th>2019-03-20</th>\n",
              "      <td>81.320000</td>\n",
              "      <td>68.35</td>\n",
              "    </tr>\n",
              "    <tr>\n",
              "      <th>2019-03-21</th>\n",
              "      <td>81.790001</td>\n",
              "      <td>68.30</td>\n",
              "    </tr>\n",
              "    <tr>\n",
              "      <th>2019-03-22</th>\n",
              "      <td>80.480003</td>\n",
              "      <td>66.29</td>\n",
              "    </tr>\n",
              "    <tr>\n",
              "      <th>2019-03-25</th>\n",
              "      <td>79.919998</td>\n",
              "      <td>67.37</td>\n",
              "    </tr>\n",
              "  </tbody>\n",
              "</table>\n",
              "<p>1256 rows × 2 columns</p>\n",
              "</div>"
            ],
            "text/plain": [
              "            exon_price  oil_price\n",
              "date                             \n",
              "2014-03-28   97.699997     106.64\n",
              "2014-03-31   97.680000     105.95\n",
              "2014-04-01   97.730003     105.70\n",
              "2014-04-02   97.949997     103.37\n",
              "2014-04-03   97.930000     104.88\n",
              "...                ...        ...\n",
              "2019-03-19   80.870003      67.13\n",
              "2019-03-20   81.320000      68.35\n",
              "2019-03-21   81.790001      68.30\n",
              "2019-03-22   80.480003      66.29\n",
              "2019-03-25   79.919998      67.37\n",
              "\n",
              "[1256 rows x 2 columns]"
            ]
          },
          "metadata": {
            "tags": []
          },
          "execution_count": 34
        }
      ]
    },
    {
      "cell_type": "code",
      "metadata": {
        "id": "qNHDIlTIuerF",
        "outputId": "f8bb5f7d-5ef7-4f76-8852-f33c0727e6ce",
        "colab": {
          "base_uri": "https://localhost:8080/",
          "height": 450
        }
      },
      "source": [
        "data = data.rename(columns={\"exon_price\" : \"exxon_price\"})\n",
        "data "
      ],
      "execution_count": 35,
      "outputs": [
        {
          "output_type": "execute_result",
          "data": {
            "text/html": [
              "<div>\n",
              "<style scoped>\n",
              "    .dataframe tbody tr th:only-of-type {\n",
              "        vertical-align: middle;\n",
              "    }\n",
              "\n",
              "    .dataframe tbody tr th {\n",
              "        vertical-align: top;\n",
              "    }\n",
              "\n",
              "    .dataframe thead th {\n",
              "        text-align: right;\n",
              "    }\n",
              "</style>\n",
              "<table border=\"1\" class=\"dataframe\">\n",
              "  <thead>\n",
              "    <tr style=\"text-align: right;\">\n",
              "      <th></th>\n",
              "      <th>exxon_price</th>\n",
              "      <th>oil_price</th>\n",
              "    </tr>\n",
              "    <tr>\n",
              "      <th>date</th>\n",
              "      <th></th>\n",
              "      <th></th>\n",
              "    </tr>\n",
              "  </thead>\n",
              "  <tbody>\n",
              "    <tr>\n",
              "      <th>2014-03-28</th>\n",
              "      <td>97.699997</td>\n",
              "      <td>106.64</td>\n",
              "    </tr>\n",
              "    <tr>\n",
              "      <th>2014-03-31</th>\n",
              "      <td>97.680000</td>\n",
              "      <td>105.95</td>\n",
              "    </tr>\n",
              "    <tr>\n",
              "      <th>2014-04-01</th>\n",
              "      <td>97.730003</td>\n",
              "      <td>105.70</td>\n",
              "    </tr>\n",
              "    <tr>\n",
              "      <th>2014-04-02</th>\n",
              "      <td>97.949997</td>\n",
              "      <td>103.37</td>\n",
              "    </tr>\n",
              "    <tr>\n",
              "      <th>2014-04-03</th>\n",
              "      <td>97.930000</td>\n",
              "      <td>104.88</td>\n",
              "    </tr>\n",
              "    <tr>\n",
              "      <th>...</th>\n",
              "      <td>...</td>\n",
              "      <td>...</td>\n",
              "    </tr>\n",
              "    <tr>\n",
              "      <th>2019-03-19</th>\n",
              "      <td>80.870003</td>\n",
              "      <td>67.13</td>\n",
              "    </tr>\n",
              "    <tr>\n",
              "      <th>2019-03-20</th>\n",
              "      <td>81.320000</td>\n",
              "      <td>68.35</td>\n",
              "    </tr>\n",
              "    <tr>\n",
              "      <th>2019-03-21</th>\n",
              "      <td>81.790001</td>\n",
              "      <td>68.30</td>\n",
              "    </tr>\n",
              "    <tr>\n",
              "      <th>2019-03-22</th>\n",
              "      <td>80.480003</td>\n",
              "      <td>66.29</td>\n",
              "    </tr>\n",
              "    <tr>\n",
              "      <th>2019-03-25</th>\n",
              "      <td>79.919998</td>\n",
              "      <td>67.37</td>\n",
              "    </tr>\n",
              "  </tbody>\n",
              "</table>\n",
              "<p>1256 rows × 2 columns</p>\n",
              "</div>"
            ],
            "text/plain": [
              "            exxon_price  oil_price\n",
              "date                              \n",
              "2014-03-28    97.699997     106.64\n",
              "2014-03-31    97.680000     105.95\n",
              "2014-04-01    97.730003     105.70\n",
              "2014-04-02    97.949997     103.37\n",
              "2014-04-03    97.930000     104.88\n",
              "...                 ...        ...\n",
              "2019-03-19    80.870003      67.13\n",
              "2019-03-20    81.320000      68.35\n",
              "2019-03-21    81.790001      68.30\n",
              "2019-03-22    80.480003      66.29\n",
              "2019-03-25    79.919998      67.37\n",
              "\n",
              "[1256 rows x 2 columns]"
            ]
          },
          "metadata": {
            "tags": []
          },
          "execution_count": 35
        }
      ]
    },
    {
      "cell_type": "code",
      "metadata": {
        "id": "-6nVAomSue3N",
        "outputId": "c3974364-7c51-4d6f-fff2-784d0316586e",
        "colab": {
          "base_uri": "https://localhost:8080/",
          "height": 450
        }
      },
      "source": [
        "# Je vérifie s'il y a des cases vides (i.e avec des NA ou NaN)\n",
        "data.isna().any()\n",
        "\n",
        "# Etant donné que j'ai True, je vais les enlever avec la fonction .dropna()\n",
        "data = data.dropna()\n",
        "data"
      ],
      "execution_count": 46,
      "outputs": [
        {
          "output_type": "execute_result",
          "data": {
            "text/html": [
              "<div>\n",
              "<style scoped>\n",
              "    .dataframe tbody tr th:only-of-type {\n",
              "        vertical-align: middle;\n",
              "    }\n",
              "\n",
              "    .dataframe tbody tr th {\n",
              "        vertical-align: top;\n",
              "    }\n",
              "\n",
              "    .dataframe thead th {\n",
              "        text-align: right;\n",
              "    }\n",
              "</style>\n",
              "<table border=\"1\" class=\"dataframe\">\n",
              "  <thead>\n",
              "    <tr style=\"text-align: right;\">\n",
              "      <th></th>\n",
              "      <th>exxon_price</th>\n",
              "      <th>oil_price</th>\n",
              "    </tr>\n",
              "    <tr>\n",
              "      <th>date</th>\n",
              "      <th></th>\n",
              "      <th></th>\n",
              "    </tr>\n",
              "  </thead>\n",
              "  <tbody>\n",
              "    <tr>\n",
              "      <th>2014-03-28</th>\n",
              "      <td>97.699997</td>\n",
              "      <td>106.64</td>\n",
              "    </tr>\n",
              "    <tr>\n",
              "      <th>2014-03-31</th>\n",
              "      <td>97.680000</td>\n",
              "      <td>105.95</td>\n",
              "    </tr>\n",
              "    <tr>\n",
              "      <th>2014-04-01</th>\n",
              "      <td>97.730003</td>\n",
              "      <td>105.70</td>\n",
              "    </tr>\n",
              "    <tr>\n",
              "      <th>2014-04-02</th>\n",
              "      <td>97.949997</td>\n",
              "      <td>103.37</td>\n",
              "    </tr>\n",
              "    <tr>\n",
              "      <th>2014-04-03</th>\n",
              "      <td>97.930000</td>\n",
              "      <td>104.88</td>\n",
              "    </tr>\n",
              "    <tr>\n",
              "      <th>...</th>\n",
              "      <td>...</td>\n",
              "      <td>...</td>\n",
              "    </tr>\n",
              "    <tr>\n",
              "      <th>2019-03-19</th>\n",
              "      <td>80.870003</td>\n",
              "      <td>67.13</td>\n",
              "    </tr>\n",
              "    <tr>\n",
              "      <th>2019-03-20</th>\n",
              "      <td>81.320000</td>\n",
              "      <td>68.35</td>\n",
              "    </tr>\n",
              "    <tr>\n",
              "      <th>2019-03-21</th>\n",
              "      <td>81.790001</td>\n",
              "      <td>68.30</td>\n",
              "    </tr>\n",
              "    <tr>\n",
              "      <th>2019-03-22</th>\n",
              "      <td>80.480003</td>\n",
              "      <td>66.29</td>\n",
              "    </tr>\n",
              "    <tr>\n",
              "      <th>2019-03-25</th>\n",
              "      <td>79.919998</td>\n",
              "      <td>67.37</td>\n",
              "    </tr>\n",
              "  </tbody>\n",
              "</table>\n",
              "<p>1248 rows × 2 columns</p>\n",
              "</div>"
            ],
            "text/plain": [
              "            exxon_price  oil_price\n",
              "date                              \n",
              "2014-03-28    97.699997     106.64\n",
              "2014-03-31    97.680000     105.95\n",
              "2014-04-01    97.730003     105.70\n",
              "2014-04-02    97.949997     103.37\n",
              "2014-04-03    97.930000     104.88\n",
              "...                 ...        ...\n",
              "2019-03-19    80.870003      67.13\n",
              "2019-03-20    81.320000      68.35\n",
              "2019-03-21    81.790001      68.30\n",
              "2019-03-22    80.480003      66.29\n",
              "2019-03-25    79.919998      67.37\n",
              "\n",
              "[1248 rows x 2 columns]"
            ]
          },
          "metadata": {
            "tags": []
          },
          "execution_count": 46
        }
      ]
    },
    {
      "cell_type": "code",
      "metadata": {
        "id": "wGRfJTW2yf6I",
        "outputId": "88ce5c23-5e2a-4d07-c84a-b313c0cd734a",
        "colab": {
          "base_uri": "https://localhost:8080/",
          "height": 282
        }
      },
      "source": [
        "# Je définis mes axes x et y \n",
        "x = data[\"exxon_price\"]\n",
        "y = data[\"oil_price\"]\n",
        "\n",
        "# 1er graph simple sous forme de rond, d'où le \"o\" qui indique le format. \n",
        "plt.plot(x, y, \"o\", color = \"green\")\n",
        "plt.show"
      ],
      "execution_count": 50,
      "outputs": [
        {
          "output_type": "execute_result",
          "data": {
            "text/plain": [
              "<function matplotlib.pyplot.show>"
            ]
          },
          "metadata": {
            "tags": []
          },
          "execution_count": 50
        },
        {
          "output_type": "display_data",
          "data": {
            "image/png": "[encoded data removed]",
            "text/plain": [
              "<Figure size 432x288 with 1 Axes>"
            ]
          },
          "metadata": {
            "tags": [],
            "needs_background": "light"
          }
        }
      ]
    },
    {
      "cell_type": "code",
      "metadata": {
        "id": "J6g5RHDvyf_x",
        "outputId": "6df1818f-12a8-48b8-ba4c-61c494eef084",
        "colab": {
          "base_uri": "https://localhost:8080/"
        }
      },
      "source": [
        "#m is the slope = la pente \n",
        "#b is the intercept = point d'intersection avec l'axe\n",
        "m, b = np.polyfit(x,y,1)\n",
        "# Cette fonction permet de calculer m et b afin de faire la droite sur le graph\n",
        "print (m)\n",
        "print (b)"
      ],
      "execution_count": 53,
      "outputs": [
        {
          "output_type": "stream",
          "text": [
            "1.5621549633978147\n",
            "-70.54010935609301\n"
          ],
          "name": "stdout"
        }
      ]
    },
    {
      "cell_type": "code",
      "metadata": {
        "id": "omR07h3p7xtt",
        "outputId": "0141fca1-551a-4544-da7e-540ec231ead2",
        "colab": {
          "base_uri": "https://localhost:8080/",
          "height": 312
        }
      },
      "source": [
        "\n",
        "plt.plot(x, y, \"bo\", color = \"green\")\n",
        "plt.title(\"Exxon Vs. Oil\")\n",
        "plt.xlabel(\"Exxon Mobile\")\n",
        "plt.ylabel(\"Oil\")\n",
        "\n",
        "# Avec les données au dessus je peux calculer ma fonction et trouver la droite \n",
        "plt.plot(x , m*x+b)"
      ],
      "execution_count": 60,
      "outputs": [
        {
          "output_type": "execute_result",
          "data": {
            "text/plain": [
              "[<matplotlib.lines.Line2D at 0x7f5d2df3bef0>]"
            ]
          },
          "metadata": {
            "tags": []
          },
          "execution_count": 60
        },
        {
          "output_type": "display_data",
          "data": {
            "image/png": "[encoded data removed]",
            "text/plain": [
              "<Figure size 432x288 with 1 Axes>"
            ]
          },
          "metadata": {
            "tags": [],
            "needs_background": "light"
          }
        }
      ]
    },
    {
      "cell_type": "code",
      "metadata": {
        "id": "ek8_6Okw7xw5"
      },
      "source": [
        ""
      ],
      "execution_count": null,
      "outputs": []
    },
    {
      "cell_type": "code",
      "metadata": {
        "id": "-V3dwWg67xz_"
      },
      "source": [
        ""
      ],
      "execution_count": null,
      "outputs": []
    },
    {
      "cell_type": "code",
      "metadata": {
        "id": "p8ulmy707x3N"
      },
      "source": [
        ""
      ],
      "execution_count": null,
      "outputs": []
    }
  ]
}