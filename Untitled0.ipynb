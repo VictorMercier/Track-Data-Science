{
  "nbformat": 4,
  "nbformat_minor": 0,
  "metadata": {
    "colab": {
      "name": "Untitled0.ipynb",
      "provenance": [],
      "collapsed_sections": [],
      "include_colab_link": true
    },
    "kernelspec": {
      "name": "python3",
      "display_name": "Python 3"
    }
  },
  "cells": [
    {
      "cell_type": "markdown",
      "metadata": {
        "id": "view-in-github",
        "colab_type": "text"
      },
      "source": [
        "<a href=\"https://colab.research.google.com/github/VictorMercier/Track-Data-Science/blob/main/Untitled0.ipynb\" target=\"_parent\"><img src=\"https://colab.research.google.com/assets/colab-badge.svg\" alt=\"Open In Colab\"/></a>"
      ]
    },
    {
      "cell_type": "markdown",
      "metadata": {
        "id": "ObVEyo70Ii-U"
      },
      "source": [
        "#Linear Regression Introduction"
      ]
    },
    {
      "cell_type": "markdown",
      "metadata": {
        "id": "RUkWKYInSK7Q"
      },
      "source": [
        "##Linear Regression Definition\n",
        "\n",
        "Linear regression is an analytical method for analyzing the correlation of two variables.\n",
        "Linear regression is therefore a regression model whose purpose is to analyze a linear relationship between a variable, known as explained, dependent or to be explained, and one or more variables known as explanatory or independent. In other words, it is a question of explaining a variable Y using one variable (i.e. several variables X1,.....,X2).\n",
        "\n",
        "It is in fact to find yi = f(xi).\n",
        "\n",
        "The simplest linear regression model is the affine linear regression model, i.e. f(x) = ax + b where b is the intercept and a is the slope. \n",
        "To this function is added the variable that corresponds to the value between the value a observed and the value of the function ax + b. This variable in fact corresponds to the error committed, i.e. all the variables influencing b but was not taken into account in the graphical representation."
      ]
    },
    {
      "cell_type": "code",
      "metadata": {
        "id": "OCRLOlKdYhFz"
      },
      "source": [
        "import numpy\n",
        "numpy.__version__\n",
        "import numpy as np\n",
        "import pandas as pd\n",
        "from scipy import *\n",
        "l = [ { \"Age\":'0-20 ans', \"Infection Mortality Rate\":0.1 },\n",
        "      { \"Age\":'21-40 ans', \"Infection Mortality Rate\":0.2 },\n",
        "      { \"Age\":'41-60 ans', \"Infection Mortality Rate\":10 },\n",
        "      { \"Age\":'61-80ans', \"Infection Mortality Rate\":40 },\n",
        "      { \"Age\":'>80 ans', 'Infection Mortality Rate': 80 },]\n",
        "df = pd.DataFrame(l)\n",
        "print(df)\n",
        "s = numpy.linalg.lstsq(a, b)\n"
      ],
      "execution_count": null,
      "outputs": []
    },
    {
      "cell_type": "code",
      "metadata": {
        "id": "hFqtajq2jTUw"
      },
      "source": [
        ""
      ],
      "execution_count": null,
      "outputs": []
    }
  ]
}