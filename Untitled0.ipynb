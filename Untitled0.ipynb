{
  "nbformat": 4,
  "nbformat_minor": 0,
  "metadata": {
    "colab": {
      "name": "Untitled0.ipynb",
      "provenance": [],
      "collapsed_sections": [],
      "include_colab_link": true
    },
    "kernelspec": {
      "name": "python3",
      "display_name": "Python 3"
    }
  },
  "cells": [
    {
      "cell_type": "markdown",
      "metadata": {
        "id": "view-in-github",
        "colab_type": "text"
      },
      "source": [
        "<a href=\"https://colab.research.google.com/github/VictorMercier/Track-Data-Science/blob/main/Untitled0.ipynb\" target=\"_parent\"><img src=\"https://colab.research.google.com/assets/colab-badge.svg\" alt=\"Open In Colab\"/></a>"
      ]
    },
    {
      "cell_type": "markdown",
      "metadata": {
        "id": "ObVEyo70Ii-U"
      },
      "source": [
        "#Linear Regression Introduction"
      ]
    },
    {
      "cell_type": "code",
      "metadata": {
        "id": "oXomhf7CIQT7",
        "outputId": "4a918b13-3930-4401-ab18-169add514c72",
        "colab": {
          "base_uri": "https://localhost:8080/"
        }
      },
      "source": [
        "def hello():\n",
        "  return \"helloword\"\n",
        "\n",
        "print(hello())"
      ],
      "execution_count": 3,
      "outputs": [
        {
          "output_type": "stream",
          "text": [
            "helloword\n"
          ],
          "name": "stdout"
        }
      ]
    },
    {
      "cell_type": "code",
      "metadata": {
        "id": "owP2YHixLRpu",
        "outputId": "fa25e772-890f-4291-cdf0-7d2e80e48902",
        "colab": {
          "base_uri": "https://localhost:8080/"
        }
      },
      "source": [
        "print(1)"
      ],
      "execution_count": 4,
      "outputs": [
        {
          "output_type": "stream",
          "text": [
            "1\n"
          ],
          "name": "stdout"
        }
      ]
    },
    {
      "cell_type": "markdown",
      "metadata": {
        "id": "SSJqqnTzKFih"
      },
      "source": [
        "Hello\n"
      ]
    },
    {
      "cell_type": "markdown",
      "metadata": {
        "id": "87e4xUQ6KHrK"
      },
      "source": [
        ""
      ]
    },
    {
      "cell_type": "code",
      "metadata": {
        "id": "xvdFykwwIwih",
        "outputId": "a8ea0dff-69ff-4887-e42c-959533af364d",
        "colab": {
          "base_uri": "https://localhost:8080/"
        }
      },
      "source": [
        "def test(a):\n",
        "  return a * 2\n",
        "print(test(3))\n"
      ],
      "execution_count": null,
      "outputs": [
        {
          "output_type": "stream",
          "text": [
            "6\n"
          ],
          "name": "stdout"
        }
      ]
    },
    {
      "cell_type": "code",
      "metadata": {
        "id": "SQlwon15JjmT",
        "outputId": "ff94da3a-afad-4b12-d2b6-7a3485c56ae0",
        "colab": {
          "base_uri": "https://localhost:8080/"
        }
      },
      "source": [
        "q= 4\n",
        "print(q)"
      ],
      "execution_count": null,
      "outputs": [
        {
          "output_type": "stream",
          "text": [
            "4\n"
          ],
          "name": "stdout"
        }
      ]
    }
  ]
}